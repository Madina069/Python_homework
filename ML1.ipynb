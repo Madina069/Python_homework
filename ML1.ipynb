{
  "nbformat": 4,
  "nbformat_minor": 0,
  "metadata": {
    "colab": {
      "provenance": [],
      "authorship_tag": "ABX9TyMbu2gbbT+rBh2aS2mrBSHs",
      "include_colab_link": true
    },
    "kernelspec": {
      "name": "python3",
      "display_name": "Python 3"
    },
    "language_info": {
      "name": "python"
    }
  },
  "cells": [
    {
      "cell_type": "markdown",
      "metadata": {
        "id": "view-in-github",
        "colab_type": "text"
      },
      "source": [
        "<a href=\"https://colab.research.google.com/github/Madina069/Python_homework/blob/main/ML1.ipynb\" target=\"_parent\"><img src=\"https://colab.research.google.com/assets/colab-badge.svg\" alt=\"Open In Colab\"/></a>"
      ]
    },
    {
      "cell_type": "code",
      "execution_count": 1,
      "metadata": {
        "id": "SuIx3R0aOFtE"
      },
      "outputs": [],
      "source": [
        "import pandas as pd\n",
        "import numpy as np\n"
      ]
    },
    {
      "cell_type": "code",
      "source": [
        "df = pd.read_csv('/content/leetcode.csv')"
      ],
      "metadata": {
        "id": "bPlvG2vIQCMc"
      },
      "execution_count": 44,
      "outputs": []
    },
    {
      "cell_type": "code",
      "source": [
        "df.head()"
      ],
      "metadata": {
        "colab": {
          "base_uri": "https://localhost:8080/",
          "height": 486
        },
        "id": "Q7r3DrrHQ4HD",
        "outputId": "a10f74c3-01b0-4243-c12f-e5610e578dec"
      },
      "execution_count": 45,
      "outputs": [
        {
          "output_type": "execute_result",
          "data": {
            "text/plain": [
              "   id  page_number  is_premium  \\\n",
              "0   1            1       False   \n",
              "1   2            1       False   \n",
              "2   3            1       False   \n",
              "3   4            1       False   \n",
              "4   5            1       False   \n",
              "\n",
              "                                               title  \\\n",
              "0                                         1. Two Sum   \n",
              "1                                 2. Add Two Numbers   \n",
              "2  3. Longest Substring Without Repeating Characters   \n",
              "3                     4. Median of Two Sorted Arrays   \n",
              "4                   5. Longest Palindromic Substring   \n",
              "\n",
              "                                 problem_description  \\\n",
              "0  Given an array of integers nums and an integer...   \n",
              "1  You are given two non-empty linked lists repre...   \n",
              "2  Given a string s, find the length of the longe...   \n",
              "3  Given two sorted arrays nums1 and nums2 of siz...   \n",
              "4  Given a string s, return the longest palindrom...   \n",
              "\n",
              "                                       topic_tags difficulty  \\\n",
              "0                           'Array', 'Hash Table'       Easy   \n",
              "1              'Linked List', 'Math', 'Recursion'     Medium   \n",
              "2        'Hash Table', 'String', 'Sliding Window'     Medium   \n",
              "3  'Array', 'Binary Search', 'Divide and Conquer'       Hard   \n",
              "4                 'String', 'Dynamic Programming'     Medium   \n",
              "\n",
              "                                   similar_questions  no_similar_questions  \\\n",
              "0  [\"'3Sum'\", \"'4Sum'\", \"'Two Sum II - Input Arra...                  21.0   \n",
              "1  [\"'Multiply Strings'\", \"'Add Binary'\", \"'Sum o...                   8.0   \n",
              "2  [\"'Longest Substring with At Most Two Distinct...                   9.0   \n",
              "3           [\"'Median of a Row Wise Sorted Matrix'\"]                   1.0   \n",
              "4  [\"'Shortest Palindrome'\", \"'Palindrome Permuta...                   6.0   \n",
              "\n",
              "   acceptance    accepted  submission  solution  discussion_count    likes  \\\n",
              "0        51.0  11300000.0  22100000.0   26800.0             638.0  52700.0   \n",
              "1        41.5   4000000.0   9700000.0   15700.0             428.0  28900.0   \n",
              "2        34.1   5100000.0  14900000.0   18100.0             237.0  37700.0   \n",
              "3        38.3   2200000.0   5800000.0   14100.0             304.0  26600.0   \n",
              "4        33.2   2700000.0   8200000.0    9600.0             225.0  27900.0   \n",
              "\n",
              "   dislikes                                        problem_URL  \\\n",
              "0    1700.0              https://leetcode.com/problems/two-sum   \n",
              "1    5600.0      https://leetcode.com/problems/add-two-numbers   \n",
              "2    1700.0  https://leetcode.com/problems/longest-substrin...   \n",
              "3    2900.0  https://leetcode.com/problems/median-of-two-so...   \n",
              "4    1600.0  https://leetcode.com/problems/longest-palindro...   \n",
              "\n",
              "                                        solution_URL  \n",
              "0     https://leetcode.com/problems/two-sum/solution  \n",
              "1  https://leetcode.com/problems/add-two-numbers/...  \n",
              "2  https://leetcode.com/problems/longest-substrin...  \n",
              "3  https://leetcode.com/problems/median-of-two-so...  \n",
              "4  https://leetcode.com/problems/longest-palindro...  "
            ],
            "text/html": [
              "\n",
              "  <div id=\"df-56a23c92-5e22-4952-a34c-aa664a8cf5db\" class=\"colab-df-container\">\n",
              "    <div>\n",
              "<style scoped>\n",
              "    .dataframe tbody tr th:only-of-type {\n",
              "        vertical-align: middle;\n",
              "    }\n",
              "\n",
              "    .dataframe tbody tr th {\n",
              "        vertical-align: top;\n",
              "    }\n",
              "\n",
              "    .dataframe thead th {\n",
              "        text-align: right;\n",
              "    }\n",
              "</style>\n",
              "<table border=\"1\" class=\"dataframe\">\n",
              "  <thead>\n",
              "    <tr style=\"text-align: right;\">\n",
              "      <th></th>\n",
              "      <th>id</th>\n",
              "      <th>page_number</th>\n",
              "      <th>is_premium</th>\n",
              "      <th>title</th>\n",
              "      <th>problem_description</th>\n",
              "      <th>topic_tags</th>\n",
              "      <th>difficulty</th>\n",
              "      <th>similar_questions</th>\n",
              "      <th>no_similar_questions</th>\n",
              "      <th>acceptance</th>\n",
              "      <th>accepted</th>\n",
              "      <th>submission</th>\n",
              "      <th>solution</th>\n",
              "      <th>discussion_count</th>\n",
              "      <th>likes</th>\n",
              "      <th>dislikes</th>\n",
              "      <th>problem_URL</th>\n",
              "      <th>solution_URL</th>\n",
              "    </tr>\n",
              "  </thead>\n",
              "  <tbody>\n",
              "    <tr>\n",
              "      <th>0</th>\n",
              "      <td>1</td>\n",
              "      <td>1</td>\n",
              "      <td>False</td>\n",
              "      <td>1. Two Sum</td>\n",
              "      <td>Given an array of integers nums and an integer...</td>\n",
              "      <td>'Array', 'Hash Table'</td>\n",
              "      <td>Easy</td>\n",
              "      <td>[\"'3Sum'\", \"'4Sum'\", \"'Two Sum II - Input Arra...</td>\n",
              "      <td>21.0</td>\n",
              "      <td>51.0</td>\n",
              "      <td>11300000.0</td>\n",
              "      <td>22100000.0</td>\n",
              "      <td>26800.0</td>\n",
              "      <td>638.0</td>\n",
              "      <td>52700.0</td>\n",
              "      <td>1700.0</td>\n",
              "      <td>https://leetcode.com/problems/two-sum</td>\n",
              "      <td>https://leetcode.com/problems/two-sum/solution</td>\n",
              "    </tr>\n",
              "    <tr>\n",
              "      <th>1</th>\n",
              "      <td>2</td>\n",
              "      <td>1</td>\n",
              "      <td>False</td>\n",
              "      <td>2. Add Two Numbers</td>\n",
              "      <td>You are given two non-empty linked lists repre...</td>\n",
              "      <td>'Linked List', 'Math', 'Recursion'</td>\n",
              "      <td>Medium</td>\n",
              "      <td>[\"'Multiply Strings'\", \"'Add Binary'\", \"'Sum o...</td>\n",
              "      <td>8.0</td>\n",
              "      <td>41.5</td>\n",
              "      <td>4000000.0</td>\n",
              "      <td>9700000.0</td>\n",
              "      <td>15700.0</td>\n",
              "      <td>428.0</td>\n",
              "      <td>28900.0</td>\n",
              "      <td>5600.0</td>\n",
              "      <td>https://leetcode.com/problems/add-two-numbers</td>\n",
              "      <td>https://leetcode.com/problems/add-two-numbers/...</td>\n",
              "    </tr>\n",
              "    <tr>\n",
              "      <th>2</th>\n",
              "      <td>3</td>\n",
              "      <td>1</td>\n",
              "      <td>False</td>\n",
              "      <td>3. Longest Substring Without Repeating Characters</td>\n",
              "      <td>Given a string s, find the length of the longe...</td>\n",
              "      <td>'Hash Table', 'String', 'Sliding Window'</td>\n",
              "      <td>Medium</td>\n",
              "      <td>[\"'Longest Substring with At Most Two Distinct...</td>\n",
              "      <td>9.0</td>\n",
              "      <td>34.1</td>\n",
              "      <td>5100000.0</td>\n",
              "      <td>14900000.0</td>\n",
              "      <td>18100.0</td>\n",
              "      <td>237.0</td>\n",
              "      <td>37700.0</td>\n",
              "      <td>1700.0</td>\n",
              "      <td>https://leetcode.com/problems/longest-substrin...</td>\n",
              "      <td>https://leetcode.com/problems/longest-substrin...</td>\n",
              "    </tr>\n",
              "    <tr>\n",
              "      <th>3</th>\n",
              "      <td>4</td>\n",
              "      <td>1</td>\n",
              "      <td>False</td>\n",
              "      <td>4. Median of Two Sorted Arrays</td>\n",
              "      <td>Given two sorted arrays nums1 and nums2 of siz...</td>\n",
              "      <td>'Array', 'Binary Search', 'Divide and Conquer'</td>\n",
              "      <td>Hard</td>\n",
              "      <td>[\"'Median of a Row Wise Sorted Matrix'\"]</td>\n",
              "      <td>1.0</td>\n",
              "      <td>38.3</td>\n",
              "      <td>2200000.0</td>\n",
              "      <td>5800000.0</td>\n",
              "      <td>14100.0</td>\n",
              "      <td>304.0</td>\n",
              "      <td>26600.0</td>\n",
              "      <td>2900.0</td>\n",
              "      <td>https://leetcode.com/problems/median-of-two-so...</td>\n",
              "      <td>https://leetcode.com/problems/median-of-two-so...</td>\n",
              "    </tr>\n",
              "    <tr>\n",
              "      <th>4</th>\n",
              "      <td>5</td>\n",
              "      <td>1</td>\n",
              "      <td>False</td>\n",
              "      <td>5. Longest Palindromic Substring</td>\n",
              "      <td>Given a string s, return the longest palindrom...</td>\n",
              "      <td>'String', 'Dynamic Programming'</td>\n",
              "      <td>Medium</td>\n",
              "      <td>[\"'Shortest Palindrome'\", \"'Palindrome Permuta...</td>\n",
              "      <td>6.0</td>\n",
              "      <td>33.2</td>\n",
              "      <td>2700000.0</td>\n",
              "      <td>8200000.0</td>\n",
              "      <td>9600.0</td>\n",
              "      <td>225.0</td>\n",
              "      <td>27900.0</td>\n",
              "      <td>1600.0</td>\n",
              "      <td>https://leetcode.com/problems/longest-palindro...</td>\n",
              "      <td>https://leetcode.com/problems/longest-palindro...</td>\n",
              "    </tr>\n",
              "  </tbody>\n",
              "</table>\n",
              "</div>\n",
              "    <div class=\"colab-df-buttons\">\n",
              "\n",
              "  <div class=\"colab-df-container\">\n",
              "    <button class=\"colab-df-convert\" onclick=\"convertToInteractive('df-56a23c92-5e22-4952-a34c-aa664a8cf5db')\"\n",
              "            title=\"Convert this dataframe to an interactive table.\"\n",
              "            style=\"display:none;\">\n",
              "\n",
              "  <svg xmlns=\"http://www.w3.org/2000/svg\" height=\"24px\" viewBox=\"0 -960 960 960\">\n",
              "    <path d=\"M120-120v-720h720v720H120Zm60-500h600v-160H180v160Zm220 220h160v-160H400v160Zm0 220h160v-160H400v160ZM180-400h160v-160H180v160Zm440 0h160v-160H620v160ZM180-180h160v-160H180v160Zm440 0h160v-160H620v160Z\"/>\n",
              "  </svg>\n",
              "    </button>\n",
              "\n",
              "  <style>\n",
              "    .colab-df-container {\n",
              "      display:flex;\n",
              "      gap: 12px;\n",
              "    }\n",
              "\n",
              "    .colab-df-convert {\n",
              "      background-color: #E8F0FE;\n",
              "      border: none;\n",
              "      border-radius: 50%;\n",
              "      cursor: pointer;\n",
              "      display: none;\n",
              "      fill: #1967D2;\n",
              "      height: 32px;\n",
              "      padding: 0 0 0 0;\n",
              "      width: 32px;\n",
              "    }\n",
              "\n",
              "    .colab-df-convert:hover {\n",
              "      background-color: #E2EBFA;\n",
              "      box-shadow: 0px 1px 2px rgba(60, 64, 67, 0.3), 0px 1px 3px 1px rgba(60, 64, 67, 0.15);\n",
              "      fill: #174EA6;\n",
              "    }\n",
              "\n",
              "    .colab-df-buttons div {\n",
              "      margin-bottom: 4px;\n",
              "    }\n",
              "\n",
              "    [theme=dark] .colab-df-convert {\n",
              "      background-color: #3B4455;\n",
              "      fill: #D2E3FC;\n",
              "    }\n",
              "\n",
              "    [theme=dark] .colab-df-convert:hover {\n",
              "      background-color: #434B5C;\n",
              "      box-shadow: 0px 1px 3px 1px rgba(0, 0, 0, 0.15);\n",
              "      filter: drop-shadow(0px 1px 2px rgba(0, 0, 0, 0.3));\n",
              "      fill: #FFFFFF;\n",
              "    }\n",
              "  </style>\n",
              "\n",
              "    <script>\n",
              "      const buttonEl =\n",
              "        document.querySelector('#df-56a23c92-5e22-4952-a34c-aa664a8cf5db button.colab-df-convert');\n",
              "      buttonEl.style.display =\n",
              "        google.colab.kernel.accessAllowed ? 'block' : 'none';\n",
              "\n",
              "      async function convertToInteractive(key) {\n",
              "        const element = document.querySelector('#df-56a23c92-5e22-4952-a34c-aa664a8cf5db');\n",
              "        const dataTable =\n",
              "          await google.colab.kernel.invokeFunction('convertToInteractive',\n",
              "                                                    [key], {});\n",
              "        if (!dataTable) return;\n",
              "\n",
              "        const docLinkHtml = 'Like what you see? Visit the ' +\n",
              "          '<a target=\"_blank\" href=https://colab.research.google.com/notebooks/data_table.ipynb>data table notebook</a>'\n",
              "          + ' to learn more about interactive tables.';\n",
              "        element.innerHTML = '';\n",
              "        dataTable['output_type'] = 'display_data';\n",
              "        await google.colab.output.renderOutput(dataTable, element);\n",
              "        const docLink = document.createElement('div');\n",
              "        docLink.innerHTML = docLinkHtml;\n",
              "        element.appendChild(docLink);\n",
              "      }\n",
              "    </script>\n",
              "  </div>\n",
              "\n",
              "\n",
              "<div id=\"df-33de70a4-acf4-4bc3-b97d-0198e3be6233\">\n",
              "  <button class=\"colab-df-quickchart\" onclick=\"quickchart('df-33de70a4-acf4-4bc3-b97d-0198e3be6233')\"\n",
              "            title=\"Suggest charts\"\n",
              "            style=\"display:none;\">\n",
              "\n",
              "<svg xmlns=\"http://www.w3.org/2000/svg\" height=\"24px\"viewBox=\"0 0 24 24\"\n",
              "     width=\"24px\">\n",
              "    <g>\n",
              "        <path d=\"M19 3H5c-1.1 0-2 .9-2 2v14c0 1.1.9 2 2 2h14c1.1 0 2-.9 2-2V5c0-1.1-.9-2-2-2zM9 17H7v-7h2v7zm4 0h-2V7h2v10zm4 0h-2v-4h2v4z\"/>\n",
              "    </g>\n",
              "</svg>\n",
              "  </button>\n",
              "\n",
              "<style>\n",
              "  .colab-df-quickchart {\n",
              "      --bg-color: #E8F0FE;\n",
              "      --fill-color: #1967D2;\n",
              "      --hover-bg-color: #E2EBFA;\n",
              "      --hover-fill-color: #174EA6;\n",
              "      --disabled-fill-color: #AAA;\n",
              "      --disabled-bg-color: #DDD;\n",
              "  }\n",
              "\n",
              "  [theme=dark] .colab-df-quickchart {\n",
              "      --bg-color: #3B4455;\n",
              "      --fill-color: #D2E3FC;\n",
              "      --hover-bg-color: #434B5C;\n",
              "      --hover-fill-color: #FFFFFF;\n",
              "      --disabled-bg-color: #3B4455;\n",
              "      --disabled-fill-color: #666;\n",
              "  }\n",
              "\n",
              "  .colab-df-quickchart {\n",
              "    background-color: var(--bg-color);\n",
              "    border: none;\n",
              "    border-radius: 50%;\n",
              "    cursor: pointer;\n",
              "    display: none;\n",
              "    fill: var(--fill-color);\n",
              "    height: 32px;\n",
              "    padding: 0;\n",
              "    width: 32px;\n",
              "  }\n",
              "\n",
              "  .colab-df-quickchart:hover {\n",
              "    background-color: var(--hover-bg-color);\n",
              "    box-shadow: 0 1px 2px rgba(60, 64, 67, 0.3), 0 1px 3px 1px rgba(60, 64, 67, 0.15);\n",
              "    fill: var(--button-hover-fill-color);\n",
              "  }\n",
              "\n",
              "  .colab-df-quickchart-complete:disabled,\n",
              "  .colab-df-quickchart-complete:disabled:hover {\n",
              "    background-color: var(--disabled-bg-color);\n",
              "    fill: var(--disabled-fill-color);\n",
              "    box-shadow: none;\n",
              "  }\n",
              "\n",
              "  .colab-df-spinner {\n",
              "    border: 2px solid var(--fill-color);\n",
              "    border-color: transparent;\n",
              "    border-bottom-color: var(--fill-color);\n",
              "    animation:\n",
              "      spin 1s steps(1) infinite;\n",
              "  }\n",
              "\n",
              "  @keyframes spin {\n",
              "    0% {\n",
              "      border-color: transparent;\n",
              "      border-bottom-color: var(--fill-color);\n",
              "      border-left-color: var(--fill-color);\n",
              "    }\n",
              "    20% {\n",
              "      border-color: transparent;\n",
              "      border-left-color: var(--fill-color);\n",
              "      border-top-color: var(--fill-color);\n",
              "    }\n",
              "    30% {\n",
              "      border-color: transparent;\n",
              "      border-left-color: var(--fill-color);\n",
              "      border-top-color: var(--fill-color);\n",
              "      border-right-color: var(--fill-color);\n",
              "    }\n",
              "    40% {\n",
              "      border-color: transparent;\n",
              "      border-right-color: var(--fill-color);\n",
              "      border-top-color: var(--fill-color);\n",
              "    }\n",
              "    60% {\n",
              "      border-color: transparent;\n",
              "      border-right-color: var(--fill-color);\n",
              "    }\n",
              "    80% {\n",
              "      border-color: transparent;\n",
              "      border-right-color: var(--fill-color);\n",
              "      border-bottom-color: var(--fill-color);\n",
              "    }\n",
              "    90% {\n",
              "      border-color: transparent;\n",
              "      border-bottom-color: var(--fill-color);\n",
              "    }\n",
              "  }\n",
              "</style>\n",
              "\n",
              "  <script>\n",
              "    async function quickchart(key) {\n",
              "      const quickchartButtonEl =\n",
              "        document.querySelector('#' + key + ' button');\n",
              "      quickchartButtonEl.disabled = true;  // To prevent multiple clicks.\n",
              "      quickchartButtonEl.classList.add('colab-df-spinner');\n",
              "      try {\n",
              "        const charts = await google.colab.kernel.invokeFunction(\n",
              "            'suggestCharts', [key], {});\n",
              "      } catch (error) {\n",
              "        console.error('Error during call to suggestCharts:', error);\n",
              "      }\n",
              "      quickchartButtonEl.classList.remove('colab-df-spinner');\n",
              "      quickchartButtonEl.classList.add('colab-df-quickchart-complete');\n",
              "    }\n",
              "    (() => {\n",
              "      let quickchartButtonEl =\n",
              "        document.querySelector('#df-33de70a4-acf4-4bc3-b97d-0198e3be6233 button');\n",
              "      quickchartButtonEl.style.display =\n",
              "        google.colab.kernel.accessAllowed ? 'block' : 'none';\n",
              "    })();\n",
              "  </script>\n",
              "</div>\n",
              "    </div>\n",
              "  </div>\n"
            ],
            "application/vnd.google.colaboratory.intrinsic+json": {
              "type": "dataframe",
              "variable_name": "df",
              "summary": "{\n  \"name\": \"df\",\n  \"rows\": 3000,\n  \"fields\": [\n    {\n      \"column\": \"id\",\n      \"properties\": {\n        \"dtype\": \"number\",\n        \"std\": 866,\n        \"min\": 1,\n        \"max\": 3000,\n        \"num_unique_values\": 3000,\n        \"samples\": [\n          1802,\n          1191,\n          1818\n        ],\n        \"semantic_type\": \"\",\n        \"description\": \"\"\n      }\n    },\n    {\n      \"column\": \"page_number\",\n      \"properties\": {\n        \"dtype\": \"number\",\n        \"std\": 17,\n        \"min\": 1,\n        \"max\": 60,\n        \"num_unique_values\": 60,\n        \"samples\": [\n          1,\n          6,\n          37\n        ],\n        \"semantic_type\": \"\",\n        \"description\": \"\"\n      }\n    },\n    {\n      \"column\": \"is_premium\",\n      \"properties\": {\n        \"dtype\": \"boolean\",\n        \"num_unique_values\": 2,\n        \"samples\": [\n          true,\n          false\n        ],\n        \"semantic_type\": \"\",\n        \"description\": \"\"\n      }\n    },\n    {\n      \"column\": \"title\",\n      \"properties\": {\n        \"dtype\": \"string\",\n        \"num_unique_values\": 3000,\n        \"samples\": [\n          \"1802. Maximum Value at a Given Index in a Bounded Array\",\n          \"1191. K-Concatenation Maximum Sum\"\n        ],\n        \"semantic_type\": \"\",\n        \"description\": \"\"\n      }\n    },\n    {\n      \"column\": \"problem_description\",\n      \"properties\": {\n        \"dtype\": \"string\",\n        \"num_unique_values\": 2160,\n        \"samples\": [\n          \"You are given positive integers n and m.\\nDefine two integers, num1 and num2, as follows:\\n\\nnum1: The sum of all integers in the range [1, n] that are not divisible by m.\\nnum2: The sum of all integers in the range [1, n] that are divisible by m.\\n\\nReturn the integer num1 - num2.\\n\\u00a0\\nExample 1:\\nInput: n = 10, m = 3\\nOutput: 19\\nExplanation: In the given example:\\n- Integers in the range [1, 10] that are not divisible by 3 are [1,2,4,5,7,8,10], num1 is the sum of those integers = 37.\\n- Integers in the range [1, 10] that are divisible by 3 are [3,6,9], num2 is the sum of those integers = 18.\\nWe return 37 - 18 = 19 as the answer.\\n\\nExample 2:\\nInput: n = 5, m = 6\\nOutput: 15\\nExplanation: In the given example:\\n- Integers in the range [1, 5] that are not divisible by 6 are [1,2,3,4,5], num1 is the sum of those integers = 15.\\n- Integers in the range [1, 5] that are divisible by 6 are [], num2 is the sum of those integers = 0.\\nWe return 15 - 0 = 15 as the answer.\\n\\nExample 3:\\nInput: n = 5, m = 1\\nOutput: -15\\nExplanation: In the given example:\\n- Integers in the range [1, 5] that are not divisible by 1 are [], num1 is the sum of those integers = 0.\\n- Integers in the range [1, 5] that are divisible by 1 are [1,2,3,4,5], num2 is the sum of those integers = 15.\\nWe return 0 - 15 = -15 as the answer.\\n\\n\\u00a0\\nConstraints:\\n\\n1 <= n, m <= 1000\\n\\n\",\n          \"You are given a string sentence that consist of words separated by spaces. Each word consists of lowercase and uppercase letters only.\\nWe would like to convert the sentence to \\\"Goat Latin\\\" (a made-up language similar to Pig Latin.) The rules of Goat Latin are as follows:\\n\\nIf a word begins with a vowel ('a', 'e', 'i', 'o', or 'u'), append \\\"ma\\\" to the end of the word.\\n\\n\\t\\nFor example, the word \\\"apple\\\" becomes \\\"applema\\\".\\n\\n\\nIf a word begins with a consonant (i.e., not a vowel), remove the first letter and append it to the end, then add \\\"ma\\\".\\n\\t\\nFor example, the word \\\"goat\\\" becomes \\\"oatgma\\\".\\n\\n\\nAdd one letter 'a' to the end of each word per its word index in the sentence, starting with 1.\\n\\t\\nFor example, the first word gets \\\"a\\\" added to the end, the second word gets \\\"aa\\\" added to the end, and so on.\\n\\n\\n\\nReturn the final sentence representing the conversion from sentence to Goat Latin.\\n\\u00a0\\nExample 1:\\nInput: sentence = \\\"I speak Goat Latin\\\"\\nOutput: \\\"Imaa peaksmaaa oatGmaaaa atinLmaaaaa\\\"\\nExample 2:\\nInput: sentence = \\\"The quick brown fox jumped over the lazy dog\\\"\\nOutput: \\\"heTmaa uickqmaaa rownbmaaaa oxfmaaaaa umpedjmaaaaaa overmaaaaaaa hetmaaaaaaaa azylmaaaaaaaaa ogdmaaaaaaaaaa\\\"\\n\\n\\u00a0\\nConstraints:\\n\\n1 <= sentence.length <= 150\\nsentence consists of English letters and spaces.\\nsentence has no leading or trailing spaces.\\nAll the words in sentence are separated by a single space.\\n\\n\"\n        ],\n        \"semantic_type\": \"\",\n        \"description\": \"\"\n      }\n    },\n    {\n      \"column\": \"topic_tags\",\n      \"properties\": {\n        \"dtype\": \"category\",\n        \"num_unique_values\": 826,\n        \"samples\": [\n          \"'Two Pointers', 'String', 'Stack', 'Greedy'\",\n          \"'Array', 'Binary Search', 'Sorting', 'Heap (Priority Queue)', 'Matrix'\"\n        ],\n        \"semantic_type\": \"\",\n        \"description\": \"\"\n      }\n    },\n    {\n      \"column\": \"difficulty\",\n      \"properties\": {\n        \"dtype\": \"category\",\n        \"num_unique_values\": 3,\n        \"samples\": [\n          \"Easy\",\n          \"Medium\"\n        ],\n        \"semantic_type\": \"\",\n        \"description\": \"\"\n      }\n    },\n    {\n      \"column\": \"similar_questions\",\n      \"properties\": {\n        \"dtype\": \"category\",\n        \"num_unique_values\": 1280,\n        \"samples\": [\n          \"[\\\"'Number of Arithmetic Triplets'\\\", \\\"'Minimum Sum of Mountain Triplets I'\\\"]\",\n          \"[\\\"'Maximum Number of Events That Can Be Attended II'\\\", \\\"'Maximum Earnings From Taxi'\\\", \\\"'Meeting Rooms III'\\\"]\"\n        ],\n        \"semantic_type\": \"\",\n        \"description\": \"\"\n      }\n    },\n    {\n      \"column\": \"no_similar_questions\",\n      \"properties\": {\n        \"dtype\": \"number\",\n        \"std\": 1.8104088720734155,\n        \"min\": 0.0,\n        \"max\": 21.0,\n        \"num_unique_values\": 16,\n        \"samples\": [\n          21.0,\n          8.0\n        ],\n        \"semantic_type\": \"\",\n        \"description\": \"\"\n      }\n    },\n    {\n      \"column\": \"acceptance\",\n      \"properties\": {\n        \"dtype\": \"number\",\n        \"std\": 15.702667091404676,\n        \"min\": 11.3,\n        \"max\": 94.2,\n        \"num_unique_values\": 674,\n        \"samples\": [\n          21.3,\n          76.6\n        ],\n        \"semantic_type\": \"\",\n        \"description\": \"\"\n      }\n    },\n    {\n      \"column\": \"accepted\",\n      \"properties\": {\n        \"dtype\": \"number\",\n        \"std\": 537300.6375774776,\n        \"min\": 1200.0,\n        \"max\": 11300000.0,\n        \"num_unique_values\": 1351,\n        \"samples\": [\n          409800.0,\n          571000.0\n        ],\n        \"semantic_type\": \"\",\n        \"description\": \"\"\n      }\n    },\n    {\n      \"column\": \"submission\",\n      \"properties\": {\n        \"dtype\": \"number\",\n        \"std\": 1118382.9485079432,\n        \"min\": 2400.0,\n        \"max\": 22100000.0,\n        \"num_unique_values\": 1481,\n        \"samples\": [\n          270700.0,\n          218000.0\n        ],\n        \"semantic_type\": \"\",\n        \"description\": \"\"\n      }\n    },\n    {\n      \"column\": \"solution\",\n      \"properties\": {\n        \"dtype\": \"number\",\n        \"std\": 2515.8230363686885,\n        \"min\": 24.0,\n        \"max\": 26800.0,\n        \"num_unique_values\": 788,\n        \"samples\": [\n          240.0,\n          2100.0\n        ],\n        \"semantic_type\": \"\",\n        \"description\": \"\"\n      }\n    },\n    {\n      \"column\": \"discussion_count\",\n      \"properties\": {\n        \"dtype\": \"number\",\n        \"std\": 40.67562217312827,\n        \"min\": 0.0,\n        \"max\": 638.0,\n        \"num_unique_values\": 173,\n        \"samples\": [\n          117.0,\n          50.0\n        ],\n        \"semantic_type\": \"\",\n        \"description\": \"\"\n      }\n    },\n    {\n      \"column\": \"likes\",\n      \"properties\": {\n        \"dtype\": \"number\",\n        \"std\": 4186.5679485409855,\n        \"min\": 15.0,\n        \"max\": 52700.0,\n        \"num_unique_values\": 787,\n        \"samples\": [\n          226.0,\n          6700.0\n        ],\n        \"semantic_type\": \"\",\n        \"description\": \"\"\n      }\n    },\n    {\n      \"column\": \"dislikes\",\n      \"properties\": {\n        \"dtype\": \"number\",\n        \"std\": 986.6933983163477,\n        \"min\": 1.0,\n        \"max\": 17200.0,\n        \"num_unique_values\": 620,\n        \"samples\": [\n          674.0,\n          70.0\n        ],\n        \"semantic_type\": \"\",\n        \"description\": \"\"\n      }\n    },\n    {\n      \"column\": \"problem_URL\",\n      \"properties\": {\n        \"dtype\": \"string\",\n        \"num_unique_values\": 3000,\n        \"samples\": [\n          \"https://leetcode.com/problems/maximum-value-at-a-given-index-in-a-bounded-array\",\n          \"https://leetcode.com/problems/k-concatenation-maximum-sum\"\n        ],\n        \"semantic_type\": \"\",\n        \"description\": \"\"\n      }\n    },\n    {\n      \"column\": \"solution_URL\",\n      \"properties\": {\n        \"dtype\": \"string\",\n        \"num_unique_values\": 3000,\n        \"samples\": [\n          \"https://leetcode.com/problems/maximum-value-at-a-given-index-in-a-bounded-array/solution\",\n          \"https://leetcode.com/problems/k-concatenation-maximum-sum/solution\"\n        ],\n        \"semantic_type\": \"\",\n        \"description\": \"\"\n      }\n    }\n  ]\n}"
            }
          },
          "metadata": {},
          "execution_count": 45
        }
      ]
    },
    {
      "cell_type": "code",
      "source": [
        "set(df['difficulty'].tolist())"
      ],
      "metadata": {
        "colab": {
          "base_uri": "https://localhost:8080/"
        },
        "id": "RB45pWX8dgpH",
        "outputId": "74d02e76-ca82-4f81-d529-8c3dd2499199"
      },
      "execution_count": 46,
      "outputs": [
        {
          "output_type": "execute_result",
          "data": {
            "text/plain": [
              "{'Easy', 'Hard', 'Medium'}"
            ]
          },
          "metadata": {},
          "execution_count": 46
        }
      ]
    },
    {
      "cell_type": "code",
      "source": [
        "#избавляюсь от пустых ячеек в колонках для первого и второго задания\n",
        "columns = ['difficulty', 'problem_description', 'acceptance']\n",
        "df_without_na = df.dropna(subset = columns)"
      ],
      "metadata": {
        "id": "R2vAeDxha-Zb"
      },
      "execution_count": 47,
      "outputs": []
    },
    {
      "cell_type": "code",
      "source": [
        "#Задание №1"
      ],
      "metadata": {
        "id": "xXaBnlBulmll"
      },
      "execution_count": null,
      "outputs": []
    },
    {
      "cell_type": "code",
      "source": [
        "from sklearn.model_selection import train_test_split"
      ],
      "metadata": {
        "id": "YApZGdlGaQuM"
      },
      "execution_count": 48,
      "outputs": []
    },
    {
      "cell_type": "code",
      "source": [
        "#делю выборку на тренировочную и тестовую\n",
        "X_train, X_test, y_train, y_test = train_test_split(df_without_na['problem_description'],\n",
        "                                                    df_without_na['difficulty'],\n",
        "                                                    test_size=0.2,\n",
        "                                                    random_state=42\n",
        "                                                    )"
      ],
      "metadata": {
        "id": "sfEPilblaR9K"
      },
      "execution_count": 49,
      "outputs": []
    },
    {
      "cell_type": "code",
      "source": [
        "from sklearn.feature_extraction.text import TfidfVectorizer\n",
        "tf_idf = TfidfVectorizer()\n"
      ],
      "metadata": {
        "id": "4X5elvPpjH-D"
      },
      "execution_count": 50,
      "outputs": []
    },
    {
      "cell_type": "code",
      "source": [
        "#векторизация текстов в колонке problem_description\n",
        "tf_idf.fit(X_train)"
      ],
      "metadata": {
        "colab": {
          "base_uri": "https://localhost:8080/",
          "height": 74
        },
        "id": "LpPwGrIWjleF",
        "outputId": "72153ee5-ebdb-442d-c2df-79ab55dae765"
      },
      "execution_count": 51,
      "outputs": [
        {
          "output_type": "execute_result",
          "data": {
            "text/plain": [
              "TfidfVectorizer()"
            ],
            "text/html": [
              "<style>#sk-container-id-1 {color: black;background-color: white;}#sk-container-id-1 pre{padding: 0;}#sk-container-id-1 div.sk-toggleable {background-color: white;}#sk-container-id-1 label.sk-toggleable__label {cursor: pointer;display: block;width: 100%;margin-bottom: 0;padding: 0.3em;box-sizing: border-box;text-align: center;}#sk-container-id-1 label.sk-toggleable__label-arrow:before {content: \"▸\";float: left;margin-right: 0.25em;color: #696969;}#sk-container-id-1 label.sk-toggleable__label-arrow:hover:before {color: black;}#sk-container-id-1 div.sk-estimator:hover label.sk-toggleable__label-arrow:before {color: black;}#sk-container-id-1 div.sk-toggleable__content {max-height: 0;max-width: 0;overflow: hidden;text-align: left;background-color: #f0f8ff;}#sk-container-id-1 div.sk-toggleable__content pre {margin: 0.2em;color: black;border-radius: 0.25em;background-color: #f0f8ff;}#sk-container-id-1 input.sk-toggleable__control:checked~div.sk-toggleable__content {max-height: 200px;max-width: 100%;overflow: auto;}#sk-container-id-1 input.sk-toggleable__control:checked~label.sk-toggleable__label-arrow:before {content: \"▾\";}#sk-container-id-1 div.sk-estimator input.sk-toggleable__control:checked~label.sk-toggleable__label {background-color: #d4ebff;}#sk-container-id-1 div.sk-label input.sk-toggleable__control:checked~label.sk-toggleable__label {background-color: #d4ebff;}#sk-container-id-1 input.sk-hidden--visually {border: 0;clip: rect(1px 1px 1px 1px);clip: rect(1px, 1px, 1px, 1px);height: 1px;margin: -1px;overflow: hidden;padding: 0;position: absolute;width: 1px;}#sk-container-id-1 div.sk-estimator {font-family: monospace;background-color: #f0f8ff;border: 1px dotted black;border-radius: 0.25em;box-sizing: border-box;margin-bottom: 0.5em;}#sk-container-id-1 div.sk-estimator:hover {background-color: #d4ebff;}#sk-container-id-1 div.sk-parallel-item::after {content: \"\";width: 100%;border-bottom: 1px solid gray;flex-grow: 1;}#sk-container-id-1 div.sk-label:hover label.sk-toggleable__label {background-color: #d4ebff;}#sk-container-id-1 div.sk-serial::before {content: \"\";position: absolute;border-left: 1px solid gray;box-sizing: border-box;top: 0;bottom: 0;left: 50%;z-index: 0;}#sk-container-id-1 div.sk-serial {display: flex;flex-direction: column;align-items: center;background-color: white;padding-right: 0.2em;padding-left: 0.2em;position: relative;}#sk-container-id-1 div.sk-item {position: relative;z-index: 1;}#sk-container-id-1 div.sk-parallel {display: flex;align-items: stretch;justify-content: center;background-color: white;position: relative;}#sk-container-id-1 div.sk-item::before, #sk-container-id-1 div.sk-parallel-item::before {content: \"\";position: absolute;border-left: 1px solid gray;box-sizing: border-box;top: 0;bottom: 0;left: 50%;z-index: -1;}#sk-container-id-1 div.sk-parallel-item {display: flex;flex-direction: column;z-index: 1;position: relative;background-color: white;}#sk-container-id-1 div.sk-parallel-item:first-child::after {align-self: flex-end;width: 50%;}#sk-container-id-1 div.sk-parallel-item:last-child::after {align-self: flex-start;width: 50%;}#sk-container-id-1 div.sk-parallel-item:only-child::after {width: 0;}#sk-container-id-1 div.sk-dashed-wrapped {border: 1px dashed gray;margin: 0 0.4em 0.5em 0.4em;box-sizing: border-box;padding-bottom: 0.4em;background-color: white;}#sk-container-id-1 div.sk-label label {font-family: monospace;font-weight: bold;display: inline-block;line-height: 1.2em;}#sk-container-id-1 div.sk-label-container {text-align: center;}#sk-container-id-1 div.sk-container {/* jupyter's `normalize.less` sets `[hidden] { display: none; }` but bootstrap.min.css set `[hidden] { display: none !important; }` so we also need the `!important` here to be able to override the default hidden behavior on the sphinx rendered scikit-learn.org. See: https://github.com/scikit-learn/scikit-learn/issues/21755 */display: inline-block !important;position: relative;}#sk-container-id-1 div.sk-text-repr-fallback {display: none;}</style><div id=\"sk-container-id-1\" class=\"sk-top-container\"><div class=\"sk-text-repr-fallback\"><pre>TfidfVectorizer()</pre><b>In a Jupyter environment, please rerun this cell to show the HTML representation or trust the notebook. <br />On GitHub, the HTML representation is unable to render, please try loading this page with nbviewer.org.</b></div><div class=\"sk-container\" hidden><div class=\"sk-item\"><div class=\"sk-estimator sk-toggleable\"><input class=\"sk-toggleable__control sk-hidden--visually\" id=\"sk-estimator-id-1\" type=\"checkbox\" checked><label for=\"sk-estimator-id-1\" class=\"sk-toggleable__label sk-toggleable__label-arrow\">TfidfVectorizer</label><div class=\"sk-toggleable__content\"><pre>TfidfVectorizer()</pre></div></div></div></div></div>"
            ]
          },
          "metadata": {},
          "execution_count": 51
        }
      ]
    },
    {
      "cell_type": "code",
      "source": [
        "X_train_new = tf_idf.transform(X_train)\n",
        "X_test_new = tf_idf.transform(X_test)"
      ],
      "metadata": {
        "id": "KazFSs9SjzTJ"
      },
      "execution_count": 52,
      "outputs": []
    },
    {
      "cell_type": "code",
      "source": [
        "X_train_new"
      ],
      "metadata": {
        "colab": {
          "base_uri": "https://localhost:8080/"
        },
        "id": "HIYWS_ZGkhfO",
        "outputId": "7792b011-ef39-44e1-948a-037c132b0817"
      },
      "execution_count": 53,
      "outputs": [
        {
          "output_type": "execute_result",
          "data": {
            "text/plain": [
              "<1728x7598 sparse matrix of type '<class 'numpy.float64'>'\n",
              "\twith 112887 stored elements in Compressed Sparse Row format>"
            ]
          },
          "metadata": {},
          "execution_count": 53
        }
      ]
    },
    {
      "cell_type": "code",
      "source": [
        "from sklearn.preprocessing import LabelEncoder\n",
        "le = LabelEncoder()\n"
      ],
      "metadata": {
        "id": "ZlJPYih2knqc"
      },
      "execution_count": 54,
      "outputs": []
    },
    {
      "cell_type": "code",
      "source": [
        "#кодирование зависимой переменной\n",
        "le.fit(y_train)"
      ],
      "metadata": {
        "colab": {
          "base_uri": "https://localhost:8080/",
          "height": 74
        },
        "id": "X8rL3IXqmtxy",
        "outputId": "b7235890-572b-4705-f0b1-f4573ec1ab2b"
      },
      "execution_count": 55,
      "outputs": [
        {
          "output_type": "execute_result",
          "data": {
            "text/plain": [
              "LabelEncoder()"
            ],
            "text/html": [
              "<style>#sk-container-id-2 {color: black;background-color: white;}#sk-container-id-2 pre{padding: 0;}#sk-container-id-2 div.sk-toggleable {background-color: white;}#sk-container-id-2 label.sk-toggleable__label {cursor: pointer;display: block;width: 100%;margin-bottom: 0;padding: 0.3em;box-sizing: border-box;text-align: center;}#sk-container-id-2 label.sk-toggleable__label-arrow:before {content: \"▸\";float: left;margin-right: 0.25em;color: #696969;}#sk-container-id-2 label.sk-toggleable__label-arrow:hover:before {color: black;}#sk-container-id-2 div.sk-estimator:hover label.sk-toggleable__label-arrow:before {color: black;}#sk-container-id-2 div.sk-toggleable__content {max-height: 0;max-width: 0;overflow: hidden;text-align: left;background-color: #f0f8ff;}#sk-container-id-2 div.sk-toggleable__content pre {margin: 0.2em;color: black;border-radius: 0.25em;background-color: #f0f8ff;}#sk-container-id-2 input.sk-toggleable__control:checked~div.sk-toggleable__content {max-height: 200px;max-width: 100%;overflow: auto;}#sk-container-id-2 input.sk-toggleable__control:checked~label.sk-toggleable__label-arrow:before {content: \"▾\";}#sk-container-id-2 div.sk-estimator input.sk-toggleable__control:checked~label.sk-toggleable__label {background-color: #d4ebff;}#sk-container-id-2 div.sk-label input.sk-toggleable__control:checked~label.sk-toggleable__label {background-color: #d4ebff;}#sk-container-id-2 input.sk-hidden--visually {border: 0;clip: rect(1px 1px 1px 1px);clip: rect(1px, 1px, 1px, 1px);height: 1px;margin: -1px;overflow: hidden;padding: 0;position: absolute;width: 1px;}#sk-container-id-2 div.sk-estimator {font-family: monospace;background-color: #f0f8ff;border: 1px dotted black;border-radius: 0.25em;box-sizing: border-box;margin-bottom: 0.5em;}#sk-container-id-2 div.sk-estimator:hover {background-color: #d4ebff;}#sk-container-id-2 div.sk-parallel-item::after {content: \"\";width: 100%;border-bottom: 1px solid gray;flex-grow: 1;}#sk-container-id-2 div.sk-label:hover label.sk-toggleable__label {background-color: #d4ebff;}#sk-container-id-2 div.sk-serial::before {content: \"\";position: absolute;border-left: 1px solid gray;box-sizing: border-box;top: 0;bottom: 0;left: 50%;z-index: 0;}#sk-container-id-2 div.sk-serial {display: flex;flex-direction: column;align-items: center;background-color: white;padding-right: 0.2em;padding-left: 0.2em;position: relative;}#sk-container-id-2 div.sk-item {position: relative;z-index: 1;}#sk-container-id-2 div.sk-parallel {display: flex;align-items: stretch;justify-content: center;background-color: white;position: relative;}#sk-container-id-2 div.sk-item::before, #sk-container-id-2 div.sk-parallel-item::before {content: \"\";position: absolute;border-left: 1px solid gray;box-sizing: border-box;top: 0;bottom: 0;left: 50%;z-index: -1;}#sk-container-id-2 div.sk-parallel-item {display: flex;flex-direction: column;z-index: 1;position: relative;background-color: white;}#sk-container-id-2 div.sk-parallel-item:first-child::after {align-self: flex-end;width: 50%;}#sk-container-id-2 div.sk-parallel-item:last-child::after {align-self: flex-start;width: 50%;}#sk-container-id-2 div.sk-parallel-item:only-child::after {width: 0;}#sk-container-id-2 div.sk-dashed-wrapped {border: 1px dashed gray;margin: 0 0.4em 0.5em 0.4em;box-sizing: border-box;padding-bottom: 0.4em;background-color: white;}#sk-container-id-2 div.sk-label label {font-family: monospace;font-weight: bold;display: inline-block;line-height: 1.2em;}#sk-container-id-2 div.sk-label-container {text-align: center;}#sk-container-id-2 div.sk-container {/* jupyter's `normalize.less` sets `[hidden] { display: none; }` but bootstrap.min.css set `[hidden] { display: none !important; }` so we also need the `!important` here to be able to override the default hidden behavior on the sphinx rendered scikit-learn.org. See: https://github.com/scikit-learn/scikit-learn/issues/21755 */display: inline-block !important;position: relative;}#sk-container-id-2 div.sk-text-repr-fallback {display: none;}</style><div id=\"sk-container-id-2\" class=\"sk-top-container\"><div class=\"sk-text-repr-fallback\"><pre>LabelEncoder()</pre><b>In a Jupyter environment, please rerun this cell to show the HTML representation or trust the notebook. <br />On GitHub, the HTML representation is unable to render, please try loading this page with nbviewer.org.</b></div><div class=\"sk-container\" hidden><div class=\"sk-item\"><div class=\"sk-estimator sk-toggleable\"><input class=\"sk-toggleable__control sk-hidden--visually\" id=\"sk-estimator-id-2\" type=\"checkbox\" checked><label for=\"sk-estimator-id-2\" class=\"sk-toggleable__label sk-toggleable__label-arrow\">LabelEncoder</label><div class=\"sk-toggleable__content\"><pre>LabelEncoder()</pre></div></div></div></div></div>"
            ]
          },
          "metadata": {},
          "execution_count": 55
        }
      ]
    },
    {
      "cell_type": "code",
      "source": [
        "le.classes_"
      ],
      "metadata": {
        "colab": {
          "base_uri": "https://localhost:8080/"
        },
        "id": "xcMnlBD5m2_L",
        "outputId": "16915c70-5484-47dd-d3d8-b62a96de6728"
      },
      "execution_count": 56,
      "outputs": [
        {
          "output_type": "execute_result",
          "data": {
            "text/plain": [
              "array(['Easy', 'Hard', 'Medium'], dtype=object)"
            ]
          },
          "metadata": {},
          "execution_count": 56
        }
      ]
    },
    {
      "cell_type": "code",
      "source": [
        "y_train_new = le.transform(y_train)\n",
        "y_test_new = le.transform(y_test)"
      ],
      "metadata": {
        "id": "B9wbOhKFm4v4"
      },
      "execution_count": 57,
      "outputs": []
    },
    {
      "cell_type": "code",
      "source": [
        "#Предсказание сложности по тексту задания с помощью логистической регрессии"
      ],
      "metadata": {
        "id": "osQA74tPmBTT"
      },
      "execution_count": 58,
      "outputs": []
    },
    {
      "cell_type": "code",
      "source": [
        "from sklearn.linear_model import LogisticRegression\n"
      ],
      "metadata": {
        "id": "3ui3xcVfnN5T"
      },
      "execution_count": 59,
      "outputs": []
    },
    {
      "cell_type": "code",
      "source": [
        "clf = LogisticRegression(random_state=42, class_weight='balanced')\n",
        "clf.fit(X_train_new, y_train_new)"
      ],
      "metadata": {
        "colab": {
          "base_uri": "https://localhost:8080/",
          "height": 74
        },
        "id": "Ceouv2qin--p",
        "outputId": "ccb241f1-6376-4be4-a4bc-59d1e9a6a7be"
      },
      "execution_count": 60,
      "outputs": [
        {
          "output_type": "execute_result",
          "data": {
            "text/plain": [
              "LogisticRegression(class_weight='balanced', random_state=42)"
            ],
            "text/html": [
              "<style>#sk-container-id-3 {color: black;background-color: white;}#sk-container-id-3 pre{padding: 0;}#sk-container-id-3 div.sk-toggleable {background-color: white;}#sk-container-id-3 label.sk-toggleable__label {cursor: pointer;display: block;width: 100%;margin-bottom: 0;padding: 0.3em;box-sizing: border-box;text-align: center;}#sk-container-id-3 label.sk-toggleable__label-arrow:before {content: \"▸\";float: left;margin-right: 0.25em;color: #696969;}#sk-container-id-3 label.sk-toggleable__label-arrow:hover:before {color: black;}#sk-container-id-3 div.sk-estimator:hover label.sk-toggleable__label-arrow:before {color: black;}#sk-container-id-3 div.sk-toggleable__content {max-height: 0;max-width: 0;overflow: hidden;text-align: left;background-color: #f0f8ff;}#sk-container-id-3 div.sk-toggleable__content pre {margin: 0.2em;color: black;border-radius: 0.25em;background-color: #f0f8ff;}#sk-container-id-3 input.sk-toggleable__control:checked~div.sk-toggleable__content {max-height: 200px;max-width: 100%;overflow: auto;}#sk-container-id-3 input.sk-toggleable__control:checked~label.sk-toggleable__label-arrow:before {content: \"▾\";}#sk-container-id-3 div.sk-estimator input.sk-toggleable__control:checked~label.sk-toggleable__label {background-color: #d4ebff;}#sk-container-id-3 div.sk-label input.sk-toggleable__control:checked~label.sk-toggleable__label {background-color: #d4ebff;}#sk-container-id-3 input.sk-hidden--visually {border: 0;clip: rect(1px 1px 1px 1px);clip: rect(1px, 1px, 1px, 1px);height: 1px;margin: -1px;overflow: hidden;padding: 0;position: absolute;width: 1px;}#sk-container-id-3 div.sk-estimator {font-family: monospace;background-color: #f0f8ff;border: 1px dotted black;border-radius: 0.25em;box-sizing: border-box;margin-bottom: 0.5em;}#sk-container-id-3 div.sk-estimator:hover {background-color: #d4ebff;}#sk-container-id-3 div.sk-parallel-item::after {content: \"\";width: 100%;border-bottom: 1px solid gray;flex-grow: 1;}#sk-container-id-3 div.sk-label:hover label.sk-toggleable__label {background-color: #d4ebff;}#sk-container-id-3 div.sk-serial::before {content: \"\";position: absolute;border-left: 1px solid gray;box-sizing: border-box;top: 0;bottom: 0;left: 50%;z-index: 0;}#sk-container-id-3 div.sk-serial {display: flex;flex-direction: column;align-items: center;background-color: white;padding-right: 0.2em;padding-left: 0.2em;position: relative;}#sk-container-id-3 div.sk-item {position: relative;z-index: 1;}#sk-container-id-3 div.sk-parallel {display: flex;align-items: stretch;justify-content: center;background-color: white;position: relative;}#sk-container-id-3 div.sk-item::before, #sk-container-id-3 div.sk-parallel-item::before {content: \"\";position: absolute;border-left: 1px solid gray;box-sizing: border-box;top: 0;bottom: 0;left: 50%;z-index: -1;}#sk-container-id-3 div.sk-parallel-item {display: flex;flex-direction: column;z-index: 1;position: relative;background-color: white;}#sk-container-id-3 div.sk-parallel-item:first-child::after {align-self: flex-end;width: 50%;}#sk-container-id-3 div.sk-parallel-item:last-child::after {align-self: flex-start;width: 50%;}#sk-container-id-3 div.sk-parallel-item:only-child::after {width: 0;}#sk-container-id-3 div.sk-dashed-wrapped {border: 1px dashed gray;margin: 0 0.4em 0.5em 0.4em;box-sizing: border-box;padding-bottom: 0.4em;background-color: white;}#sk-container-id-3 div.sk-label label {font-family: monospace;font-weight: bold;display: inline-block;line-height: 1.2em;}#sk-container-id-3 div.sk-label-container {text-align: center;}#sk-container-id-3 div.sk-container {/* jupyter's `normalize.less` sets `[hidden] { display: none; }` but bootstrap.min.css set `[hidden] { display: none !important; }` so we also need the `!important` here to be able to override the default hidden behavior on the sphinx rendered scikit-learn.org. See: https://github.com/scikit-learn/scikit-learn/issues/21755 */display: inline-block !important;position: relative;}#sk-container-id-3 div.sk-text-repr-fallback {display: none;}</style><div id=\"sk-container-id-3\" class=\"sk-top-container\"><div class=\"sk-text-repr-fallback\"><pre>LogisticRegression(class_weight=&#x27;balanced&#x27;, random_state=42)</pre><b>In a Jupyter environment, please rerun this cell to show the HTML representation or trust the notebook. <br />On GitHub, the HTML representation is unable to render, please try loading this page with nbviewer.org.</b></div><div class=\"sk-container\" hidden><div class=\"sk-item\"><div class=\"sk-estimator sk-toggleable\"><input class=\"sk-toggleable__control sk-hidden--visually\" id=\"sk-estimator-id-3\" type=\"checkbox\" checked><label for=\"sk-estimator-id-3\" class=\"sk-toggleable__label sk-toggleable__label-arrow\">LogisticRegression</label><div class=\"sk-toggleable__content\"><pre>LogisticRegression(class_weight=&#x27;balanced&#x27;, random_state=42)</pre></div></div></div></div></div>"
            ]
          },
          "metadata": {},
          "execution_count": 60
        }
      ]
    },
    {
      "cell_type": "code",
      "source": [
        "y_pred = clf.predict(X_test_new)"
      ],
      "metadata": {
        "id": "72W7pmY1oNsb"
      },
      "execution_count": 61,
      "outputs": []
    },
    {
      "cell_type": "code",
      "source": [
        "from sklearn.metrics import classification_report"
      ],
      "metadata": {
        "id": "vM_nB_99obO1"
      },
      "execution_count": 62,
      "outputs": []
    },
    {
      "cell_type": "code",
      "source": [
        "print(classification_report(y_test_new, y_pred, target_names=le.classes_))"
      ],
      "metadata": {
        "colab": {
          "base_uri": "https://localhost:8080/"
        },
        "id": "3iDaXIR-oTVY",
        "outputId": "c2cd8831-958b-4e19-8661-f35a2a718134"
      },
      "execution_count": 63,
      "outputs": [
        {
          "output_type": "stream",
          "name": "stdout",
          "text": [
            "              precision    recall  f1-score   support\n",
            "\n",
            "        Easy       0.49      0.58      0.53       117\n",
            "        Hard       0.38      0.49      0.43        94\n",
            "      Medium       0.64      0.49      0.55       221\n",
            "\n",
            "    accuracy                           0.51       432\n",
            "   macro avg       0.50      0.52      0.50       432\n",
            "weighted avg       0.54      0.51      0.52       432\n",
            "\n"
          ]
        }
      ]
    },
    {
      "cell_type": "code",
      "source": [
        "Вывод: Данная модель показывает средние результаты для классов Easy и Medium. Она немного лучше находит примеры класса Easy среди всех,\n",
        "       но хуже определяет, что это именно класс Easy. Для класса Medium ситуация обратная. С классом Hard дела обстоят хуже всего,\n",
        "       что, возможно, связано с тем,что этот класс содержит в себе меньше всего примеров, не смотря на заданный параметр class_weight = 'balanced'"
      ],
      "metadata": {
        "id": "fZJo1pPJqvZA"
      },
      "execution_count": null,
      "outputs": []
    },
    {
      "cell_type": "code",
      "source": [
        "#Предсказание сложности по тексту задания с помощью Random Forest Classifier"
      ],
      "metadata": {
        "id": "i7zlqSlemMWl"
      },
      "execution_count": null,
      "outputs": []
    },
    {
      "cell_type": "code",
      "source": [
        "from sklearn.ensemble import RandomForestClassifier"
      ],
      "metadata": {
        "id": "CsMmdtjxQlsL"
      },
      "execution_count": 64,
      "outputs": []
    },
    {
      "cell_type": "code",
      "source": [
        "random_for = RandomForestClassifier(random_state=42, class_weight = \"balanced\")"
      ],
      "metadata": {
        "id": "9FmGtgTeQqfJ"
      },
      "execution_count": 65,
      "outputs": []
    },
    {
      "cell_type": "code",
      "source": [
        "random_for.fit(X_train_new, y_train_new)"
      ],
      "metadata": {
        "colab": {
          "base_uri": "https://localhost:8080/",
          "height": 74
        },
        "id": "UyXegFOUQt2Y",
        "outputId": "b04d397e-ab8c-4b7a-c750-9e969f331703"
      },
      "execution_count": 66,
      "outputs": [
        {
          "output_type": "execute_result",
          "data": {
            "text/plain": [
              "RandomForestClassifier(class_weight='balanced', random_state=42)"
            ],
            "text/html": [
              "<style>#sk-container-id-4 {color: black;background-color: white;}#sk-container-id-4 pre{padding: 0;}#sk-container-id-4 div.sk-toggleable {background-color: white;}#sk-container-id-4 label.sk-toggleable__label {cursor: pointer;display: block;width: 100%;margin-bottom: 0;padding: 0.3em;box-sizing: border-box;text-align: center;}#sk-container-id-4 label.sk-toggleable__label-arrow:before {content: \"▸\";float: left;margin-right: 0.25em;color: #696969;}#sk-container-id-4 label.sk-toggleable__label-arrow:hover:before {color: black;}#sk-container-id-4 div.sk-estimator:hover label.sk-toggleable__label-arrow:before {color: black;}#sk-container-id-4 div.sk-toggleable__content {max-height: 0;max-width: 0;overflow: hidden;text-align: left;background-color: #f0f8ff;}#sk-container-id-4 div.sk-toggleable__content pre {margin: 0.2em;color: black;border-radius: 0.25em;background-color: #f0f8ff;}#sk-container-id-4 input.sk-toggleable__control:checked~div.sk-toggleable__content {max-height: 200px;max-width: 100%;overflow: auto;}#sk-container-id-4 input.sk-toggleable__control:checked~label.sk-toggleable__label-arrow:before {content: \"▾\";}#sk-container-id-4 div.sk-estimator input.sk-toggleable__control:checked~label.sk-toggleable__label {background-color: #d4ebff;}#sk-container-id-4 div.sk-label input.sk-toggleable__control:checked~label.sk-toggleable__label {background-color: #d4ebff;}#sk-container-id-4 input.sk-hidden--visually {border: 0;clip: rect(1px 1px 1px 1px);clip: rect(1px, 1px, 1px, 1px);height: 1px;margin: -1px;overflow: hidden;padding: 0;position: absolute;width: 1px;}#sk-container-id-4 div.sk-estimator {font-family: monospace;background-color: #f0f8ff;border: 1px dotted black;border-radius: 0.25em;box-sizing: border-box;margin-bottom: 0.5em;}#sk-container-id-4 div.sk-estimator:hover {background-color: #d4ebff;}#sk-container-id-4 div.sk-parallel-item::after {content: \"\";width: 100%;border-bottom: 1px solid gray;flex-grow: 1;}#sk-container-id-4 div.sk-label:hover label.sk-toggleable__label {background-color: #d4ebff;}#sk-container-id-4 div.sk-serial::before {content: \"\";position: absolute;border-left: 1px solid gray;box-sizing: border-box;top: 0;bottom: 0;left: 50%;z-index: 0;}#sk-container-id-4 div.sk-serial {display: flex;flex-direction: column;align-items: center;background-color: white;padding-right: 0.2em;padding-left: 0.2em;position: relative;}#sk-container-id-4 div.sk-item {position: relative;z-index: 1;}#sk-container-id-4 div.sk-parallel {display: flex;align-items: stretch;justify-content: center;background-color: white;position: relative;}#sk-container-id-4 div.sk-item::before, #sk-container-id-4 div.sk-parallel-item::before {content: \"\";position: absolute;border-left: 1px solid gray;box-sizing: border-box;top: 0;bottom: 0;left: 50%;z-index: -1;}#sk-container-id-4 div.sk-parallel-item {display: flex;flex-direction: column;z-index: 1;position: relative;background-color: white;}#sk-container-id-4 div.sk-parallel-item:first-child::after {align-self: flex-end;width: 50%;}#sk-container-id-4 div.sk-parallel-item:last-child::after {align-self: flex-start;width: 50%;}#sk-container-id-4 div.sk-parallel-item:only-child::after {width: 0;}#sk-container-id-4 div.sk-dashed-wrapped {border: 1px dashed gray;margin: 0 0.4em 0.5em 0.4em;box-sizing: border-box;padding-bottom: 0.4em;background-color: white;}#sk-container-id-4 div.sk-label label {font-family: monospace;font-weight: bold;display: inline-block;line-height: 1.2em;}#sk-container-id-4 div.sk-label-container {text-align: center;}#sk-container-id-4 div.sk-container {/* jupyter's `normalize.less` sets `[hidden] { display: none; }` but bootstrap.min.css set `[hidden] { display: none !important; }` so we also need the `!important` here to be able to override the default hidden behavior on the sphinx rendered scikit-learn.org. See: https://github.com/scikit-learn/scikit-learn/issues/21755 */display: inline-block !important;position: relative;}#sk-container-id-4 div.sk-text-repr-fallback {display: none;}</style><div id=\"sk-container-id-4\" class=\"sk-top-container\"><div class=\"sk-text-repr-fallback\"><pre>RandomForestClassifier(class_weight=&#x27;balanced&#x27;, random_state=42)</pre><b>In a Jupyter environment, please rerun this cell to show the HTML representation or trust the notebook. <br />On GitHub, the HTML representation is unable to render, please try loading this page with nbviewer.org.</b></div><div class=\"sk-container\" hidden><div class=\"sk-item\"><div class=\"sk-estimator sk-toggleable\"><input class=\"sk-toggleable__control sk-hidden--visually\" id=\"sk-estimator-id-4\" type=\"checkbox\" checked><label for=\"sk-estimator-id-4\" class=\"sk-toggleable__label sk-toggleable__label-arrow\">RandomForestClassifier</label><div class=\"sk-toggleable__content\"><pre>RandomForestClassifier(class_weight=&#x27;balanced&#x27;, random_state=42)</pre></div></div></div></div></div>"
            ]
          },
          "metadata": {},
          "execution_count": 66
        }
      ]
    },
    {
      "cell_type": "code",
      "source": [
        "\n",
        "y_test_pred_random_for = random_for.predict(X_test_new)"
      ],
      "metadata": {
        "id": "Sw-aD0k4Ro7U"
      },
      "execution_count": 67,
      "outputs": []
    },
    {
      "cell_type": "code",
      "source": [
        "print(classification_report(y_test_new, y_test_pred_random_for, target_names=le.classes_))"
      ],
      "metadata": {
        "colab": {
          "base_uri": "https://localhost:8080/"
        },
        "id": "gwNGGdP_TCh7",
        "outputId": "cde91fc0-bb26-4b49-e49a-3f699d5fdc09"
      },
      "execution_count": 68,
      "outputs": [
        {
          "output_type": "stream",
          "name": "stdout",
          "text": [
            "              precision    recall  f1-score   support\n",
            "\n",
            "        Easy       0.63      0.35      0.45       117\n",
            "        Hard       0.25      0.01      0.02        94\n",
            "      Medium       0.55      0.90      0.68       221\n",
            "\n",
            "    accuracy                           0.56       432\n",
            "   macro avg       0.48      0.42      0.39       432\n",
            "weighted avg       0.51      0.56      0.48       432\n",
            "\n"
          ]
        }
      ]
    },
    {
      "cell_type": "code",
      "source": [
        "Вывод: Результаты работы классификатора Random Forest гораздо хуже для класса Hard: он совсем не распознает примеры из этого класса.\n",
        "       При этом он нашел 90% примеров из класса Medium, но хуже определил, что это именно класс Medium, чем это сделала логистическая регрессия."
      ],
      "metadata": {
        "id": "61ubr_vGuF02"
      },
      "execution_count": null,
      "outputs": []
    },
    {
      "cell_type": "code",
      "source": [
        "#Кросс-валидация"
      ],
      "metadata": {
        "id": "ZDE9r8t5mkhF"
      },
      "execution_count": null,
      "outputs": []
    },
    {
      "cell_type": "code",
      "source": [
        "from sklearn.model_selection import cross_validate"
      ],
      "metadata": {
        "id": "5o15nuDiyWMA"
      },
      "execution_count": 69,
      "outputs": []
    },
    {
      "cell_type": "code",
      "source": [
        "scoring = {\n",
        "           'r2_score': 'r2',\n",
        "           'MSE': 'neg_mean_squared_error',\n",
        "           'MAE': 'neg_mean_absolute_error'\n",
        "           }"
      ],
      "metadata": {
        "id": "NJeo2CFjydL7"
      },
      "execution_count": 70,
      "outputs": []
    },
    {
      "cell_type": "code",
      "source": [
        "scores = cross_validate(clf,\n",
        "                        X_train_new,\n",
        "                        y_train_new,\n",
        "                        scoring=scoring,\n",
        "                        cv=10,\n",
        "                        return_estimator=True,\n",
        "                        return_train_score=True,\n",
        "                        )"
      ],
      "metadata": {
        "id": "3JUcLbNFylqe"
      },
      "execution_count": 71,
      "outputs": []
    },
    {
      "cell_type": "code",
      "source": [
        "scores"
      ],
      "metadata": {
        "colab": {
          "base_uri": "https://localhost:8080/"
        },
        "id": "7C6ZONs6zzW4",
        "outputId": "1bf3350e-a4c8-40e9-88f6-b9f10ef21f73"
      },
      "execution_count": 72,
      "outputs": [
        {
          "output_type": "execute_result",
          "data": {
            "text/plain": [
              "{'fit_time': array([1.02517962, 0.9183507 , 0.76884818, 0.65203691, 0.84765959,\n",
              "        0.70973516, 0.79433274, 0.47823286, 1.43177271, 1.23415327]),\n",
              " 'score_time': array([0.00975776, 0.00218177, 0.00787854, 0.00174689, 0.00268912,\n",
              "        0.00187874, 0.00197721, 0.00661659, 0.00196314, 0.0106504 ]),\n",
              " 'estimator': [LogisticRegression(class_weight='balanced', random_state=42),\n",
              "  LogisticRegression(class_weight='balanced', random_state=42),\n",
              "  LogisticRegression(class_weight='balanced', random_state=42),\n",
              "  LogisticRegression(class_weight='balanced', random_state=42),\n",
              "  LogisticRegression(class_weight='balanced', random_state=42),\n",
              "  LogisticRegression(class_weight='balanced', random_state=42),\n",
              "  LogisticRegression(class_weight='balanced', random_state=42),\n",
              "  LogisticRegression(class_weight='balanced', random_state=42),\n",
              "  LogisticRegression(class_weight='balanced', random_state=42),\n",
              "  LogisticRegression(class_weight='balanced', random_state=42)],\n",
              " 'test_r2_score': array([-0.41490535, -0.66927035, -0.4784966 , -0.6056791 , -0.60155965,\n",
              "        -0.6646753 , -0.52266509, -0.75934878, -0.57066814, -0.49329124]),\n",
              " 'train_r2_score': array([0.5080885 , 0.50016864, 0.54064794, 0.46848919, 0.4891833 ,\n",
              "        0.52529276, 0.50591696, 0.50591696, 0.54821383, 0.52944967]),\n",
              " 'test_MSE': array([-1.02890173, -1.21387283, -1.07514451, -1.16763006, -1.1734104 ,\n",
              "        -1.21965318, -1.11560694, -1.28901734, -1.15697674, -1.0872093 ]),\n",
              " 'train_MSE': array([-0.35948553, -0.36527331, -0.33569132, -0.38842444, -0.37299035,\n",
              "        -0.34662379, -0.3607717 , -0.3607717 , -0.32969152, -0.34383033]),\n",
              " 'test_MAE': array([-0.70520231, -0.73988439, -0.67052023, -0.75144509, -0.72254335,\n",
              "        -0.75722543, -0.73410405, -0.80346821, -0.71511628, -0.71511628]),\n",
              " 'train_MAE': array([-0.21543408, -0.21993569, -0.20578778, -0.23151125, -0.22122186,\n",
              "        -0.20771704, -0.21543408, -0.21414791, -0.20115681, -0.20244216])}"
            ]
          },
          "metadata": {},
          "execution_count": 72
        }
      ]
    },
    {
      "cell_type": "code",
      "source": [
        "scores_df = pd.DataFrame.from_dict(scores)"
      ],
      "metadata": {
        "id": "ef_NYW030Nl7"
      },
      "execution_count": 73,
      "outputs": []
    },
    {
      "cell_type": "code",
      "source": [
        "scores_df"
      ],
      "metadata": {
        "colab": {
          "base_uri": "https://localhost:8080/",
          "height": 362
        },
        "id": "zBGZWjLf0O7a",
        "outputId": "d41155b4-6e3f-4b45-9ed3-eb65305b595f"
      },
      "execution_count": 74,
      "outputs": [
        {
          "output_type": "execute_result",
          "data": {
            "text/plain": [
              "   fit_time  score_time                                          estimator  \\\n",
              "0  1.025180    0.009758  LogisticRegression(class_weight='balanced', ra...   \n",
              "1  0.918351    0.002182  LogisticRegression(class_weight='balanced', ra...   \n",
              "2  0.768848    0.007879  LogisticRegression(class_weight='balanced', ra...   \n",
              "3  0.652037    0.001747  LogisticRegression(class_weight='balanced', ra...   \n",
              "4  0.847660    0.002689  LogisticRegression(class_weight='balanced', ra...   \n",
              "5  0.709735    0.001879  LogisticRegression(class_weight='balanced', ra...   \n",
              "6  0.794333    0.001977  LogisticRegression(class_weight='balanced', ra...   \n",
              "7  0.478233    0.006617  LogisticRegression(class_weight='balanced', ra...   \n",
              "8  1.431773    0.001963  LogisticRegression(class_weight='balanced', ra...   \n",
              "9  1.234153    0.010650  LogisticRegression(class_weight='balanced', ra...   \n",
              "\n",
              "   test_r2_score  train_r2_score  test_MSE  train_MSE  test_MAE  train_MAE  \n",
              "0      -0.414905        0.508089 -1.028902  -0.359486 -0.705202  -0.215434  \n",
              "1      -0.669270        0.500169 -1.213873  -0.365273 -0.739884  -0.219936  \n",
              "2      -0.478497        0.540648 -1.075145  -0.335691 -0.670520  -0.205788  \n",
              "3      -0.605679        0.468489 -1.167630  -0.388424 -0.751445  -0.231511  \n",
              "4      -0.601560        0.489183 -1.173410  -0.372990 -0.722543  -0.221222  \n",
              "5      -0.664675        0.525293 -1.219653  -0.346624 -0.757225  -0.207717  \n",
              "6      -0.522665        0.505917 -1.115607  -0.360772 -0.734104  -0.215434  \n",
              "7      -0.759349        0.505917 -1.289017  -0.360772 -0.803468  -0.214148  \n",
              "8      -0.570668        0.548214 -1.156977  -0.329692 -0.715116  -0.201157  \n",
              "9      -0.493291        0.529450 -1.087209  -0.343830 -0.715116  -0.202442  "
            ],
            "text/html": [
              "\n",
              "  <div id=\"df-6363b3c4-143b-424f-a224-7d164f6cd7bb\" class=\"colab-df-container\">\n",
              "    <div>\n",
              "<style scoped>\n",
              "    .dataframe tbody tr th:only-of-type {\n",
              "        vertical-align: middle;\n",
              "    }\n",
              "\n",
              "    .dataframe tbody tr th {\n",
              "        vertical-align: top;\n",
              "    }\n",
              "\n",
              "    .dataframe thead th {\n",
              "        text-align: right;\n",
              "    }\n",
              "</style>\n",
              "<table border=\"1\" class=\"dataframe\">\n",
              "  <thead>\n",
              "    <tr style=\"text-align: right;\">\n",
              "      <th></th>\n",
              "      <th>fit_time</th>\n",
              "      <th>score_time</th>\n",
              "      <th>estimator</th>\n",
              "      <th>test_r2_score</th>\n",
              "      <th>train_r2_score</th>\n",
              "      <th>test_MSE</th>\n",
              "      <th>train_MSE</th>\n",
              "      <th>test_MAE</th>\n",
              "      <th>train_MAE</th>\n",
              "    </tr>\n",
              "  </thead>\n",
              "  <tbody>\n",
              "    <tr>\n",
              "      <th>0</th>\n",
              "      <td>1.025180</td>\n",
              "      <td>0.009758</td>\n",
              "      <td>LogisticRegression(class_weight='balanced', ra...</td>\n",
              "      <td>-0.414905</td>\n",
              "      <td>0.508089</td>\n",
              "      <td>-1.028902</td>\n",
              "      <td>-0.359486</td>\n",
              "      <td>-0.705202</td>\n",
              "      <td>-0.215434</td>\n",
              "    </tr>\n",
              "    <tr>\n",
              "      <th>1</th>\n",
              "      <td>0.918351</td>\n",
              "      <td>0.002182</td>\n",
              "      <td>LogisticRegression(class_weight='balanced', ra...</td>\n",
              "      <td>-0.669270</td>\n",
              "      <td>0.500169</td>\n",
              "      <td>-1.213873</td>\n",
              "      <td>-0.365273</td>\n",
              "      <td>-0.739884</td>\n",
              "      <td>-0.219936</td>\n",
              "    </tr>\n",
              "    <tr>\n",
              "      <th>2</th>\n",
              "      <td>0.768848</td>\n",
              "      <td>0.007879</td>\n",
              "      <td>LogisticRegression(class_weight='balanced', ra...</td>\n",
              "      <td>-0.478497</td>\n",
              "      <td>0.540648</td>\n",
              "      <td>-1.075145</td>\n",
              "      <td>-0.335691</td>\n",
              "      <td>-0.670520</td>\n",
              "      <td>-0.205788</td>\n",
              "    </tr>\n",
              "    <tr>\n",
              "      <th>3</th>\n",
              "      <td>0.652037</td>\n",
              "      <td>0.001747</td>\n",
              "      <td>LogisticRegression(class_weight='balanced', ra...</td>\n",
              "      <td>-0.605679</td>\n",
              "      <td>0.468489</td>\n",
              "      <td>-1.167630</td>\n",
              "      <td>-0.388424</td>\n",
              "      <td>-0.751445</td>\n",
              "      <td>-0.231511</td>\n",
              "    </tr>\n",
              "    <tr>\n",
              "      <th>4</th>\n",
              "      <td>0.847660</td>\n",
              "      <td>0.002689</td>\n",
              "      <td>LogisticRegression(class_weight='balanced', ra...</td>\n",
              "      <td>-0.601560</td>\n",
              "      <td>0.489183</td>\n",
              "      <td>-1.173410</td>\n",
              "      <td>-0.372990</td>\n",
              "      <td>-0.722543</td>\n",
              "      <td>-0.221222</td>\n",
              "    </tr>\n",
              "    <tr>\n",
              "      <th>5</th>\n",
              "      <td>0.709735</td>\n",
              "      <td>0.001879</td>\n",
              "      <td>LogisticRegression(class_weight='balanced', ra...</td>\n",
              "      <td>-0.664675</td>\n",
              "      <td>0.525293</td>\n",
              "      <td>-1.219653</td>\n",
              "      <td>-0.346624</td>\n",
              "      <td>-0.757225</td>\n",
              "      <td>-0.207717</td>\n",
              "    </tr>\n",
              "    <tr>\n",
              "      <th>6</th>\n",
              "      <td>0.794333</td>\n",
              "      <td>0.001977</td>\n",
              "      <td>LogisticRegression(class_weight='balanced', ra...</td>\n",
              "      <td>-0.522665</td>\n",
              "      <td>0.505917</td>\n",
              "      <td>-1.115607</td>\n",
              "      <td>-0.360772</td>\n",
              "      <td>-0.734104</td>\n",
              "      <td>-0.215434</td>\n",
              "    </tr>\n",
              "    <tr>\n",
              "      <th>7</th>\n",
              "      <td>0.478233</td>\n",
              "      <td>0.006617</td>\n",
              "      <td>LogisticRegression(class_weight='balanced', ra...</td>\n",
              "      <td>-0.759349</td>\n",
              "      <td>0.505917</td>\n",
              "      <td>-1.289017</td>\n",
              "      <td>-0.360772</td>\n",
              "      <td>-0.803468</td>\n",
              "      <td>-0.214148</td>\n",
              "    </tr>\n",
              "    <tr>\n",
              "      <th>8</th>\n",
              "      <td>1.431773</td>\n",
              "      <td>0.001963</td>\n",
              "      <td>LogisticRegression(class_weight='balanced', ra...</td>\n",
              "      <td>-0.570668</td>\n",
              "      <td>0.548214</td>\n",
              "      <td>-1.156977</td>\n",
              "      <td>-0.329692</td>\n",
              "      <td>-0.715116</td>\n",
              "      <td>-0.201157</td>\n",
              "    </tr>\n",
              "    <tr>\n",
              "      <th>9</th>\n",
              "      <td>1.234153</td>\n",
              "      <td>0.010650</td>\n",
              "      <td>LogisticRegression(class_weight='balanced', ra...</td>\n",
              "      <td>-0.493291</td>\n",
              "      <td>0.529450</td>\n",
              "      <td>-1.087209</td>\n",
              "      <td>-0.343830</td>\n",
              "      <td>-0.715116</td>\n",
              "      <td>-0.202442</td>\n",
              "    </tr>\n",
              "  </tbody>\n",
              "</table>\n",
              "</div>\n",
              "    <div class=\"colab-df-buttons\">\n",
              "\n",
              "  <div class=\"colab-df-container\">\n",
              "    <button class=\"colab-df-convert\" onclick=\"convertToInteractive('df-6363b3c4-143b-424f-a224-7d164f6cd7bb')\"\n",
              "            title=\"Convert this dataframe to an interactive table.\"\n",
              "            style=\"display:none;\">\n",
              "\n",
              "  <svg xmlns=\"http://www.w3.org/2000/svg\" height=\"24px\" viewBox=\"0 -960 960 960\">\n",
              "    <path d=\"M120-120v-720h720v720H120Zm60-500h600v-160H180v160Zm220 220h160v-160H400v160Zm0 220h160v-160H400v160ZM180-400h160v-160H180v160Zm440 0h160v-160H620v160ZM180-180h160v-160H180v160Zm440 0h160v-160H620v160Z\"/>\n",
              "  </svg>\n",
              "    </button>\n",
              "\n",
              "  <style>\n",
              "    .colab-df-container {\n",
              "      display:flex;\n",
              "      gap: 12px;\n",
              "    }\n",
              "\n",
              "    .colab-df-convert {\n",
              "      background-color: #E8F0FE;\n",
              "      border: none;\n",
              "      border-radius: 50%;\n",
              "      cursor: pointer;\n",
              "      display: none;\n",
              "      fill: #1967D2;\n",
              "      height: 32px;\n",
              "      padding: 0 0 0 0;\n",
              "      width: 32px;\n",
              "    }\n",
              "\n",
              "    .colab-df-convert:hover {\n",
              "      background-color: #E2EBFA;\n",
              "      box-shadow: 0px 1px 2px rgba(60, 64, 67, 0.3), 0px 1px 3px 1px rgba(60, 64, 67, 0.15);\n",
              "      fill: #174EA6;\n",
              "    }\n",
              "\n",
              "    .colab-df-buttons div {\n",
              "      margin-bottom: 4px;\n",
              "    }\n",
              "\n",
              "    [theme=dark] .colab-df-convert {\n",
              "      background-color: #3B4455;\n",
              "      fill: #D2E3FC;\n",
              "    }\n",
              "\n",
              "    [theme=dark] .colab-df-convert:hover {\n",
              "      background-color: #434B5C;\n",
              "      box-shadow: 0px 1px 3px 1px rgba(0, 0, 0, 0.15);\n",
              "      filter: drop-shadow(0px 1px 2px rgba(0, 0, 0, 0.3));\n",
              "      fill: #FFFFFF;\n",
              "    }\n",
              "  </style>\n",
              "\n",
              "    <script>\n",
              "      const buttonEl =\n",
              "        document.querySelector('#df-6363b3c4-143b-424f-a224-7d164f6cd7bb button.colab-df-convert');\n",
              "      buttonEl.style.display =\n",
              "        google.colab.kernel.accessAllowed ? 'block' : 'none';\n",
              "\n",
              "      async function convertToInteractive(key) {\n",
              "        const element = document.querySelector('#df-6363b3c4-143b-424f-a224-7d164f6cd7bb');\n",
              "        const dataTable =\n",
              "          await google.colab.kernel.invokeFunction('convertToInteractive',\n",
              "                                                    [key], {});\n",
              "        if (!dataTable) return;\n",
              "\n",
              "        const docLinkHtml = 'Like what you see? Visit the ' +\n",
              "          '<a target=\"_blank\" href=https://colab.research.google.com/notebooks/data_table.ipynb>data table notebook</a>'\n",
              "          + ' to learn more about interactive tables.';\n",
              "        element.innerHTML = '';\n",
              "        dataTable['output_type'] = 'display_data';\n",
              "        await google.colab.output.renderOutput(dataTable, element);\n",
              "        const docLink = document.createElement('div');\n",
              "        docLink.innerHTML = docLinkHtml;\n",
              "        element.appendChild(docLink);\n",
              "      }\n",
              "    </script>\n",
              "  </div>\n",
              "\n",
              "\n",
              "<div id=\"df-9b3737b3-4ef6-4a4d-9eb9-ffa9829592cb\">\n",
              "  <button class=\"colab-df-quickchart\" onclick=\"quickchart('df-9b3737b3-4ef6-4a4d-9eb9-ffa9829592cb')\"\n",
              "            title=\"Suggest charts\"\n",
              "            style=\"display:none;\">\n",
              "\n",
              "<svg xmlns=\"http://www.w3.org/2000/svg\" height=\"24px\"viewBox=\"0 0 24 24\"\n",
              "     width=\"24px\">\n",
              "    <g>\n",
              "        <path d=\"M19 3H5c-1.1 0-2 .9-2 2v14c0 1.1.9 2 2 2h14c1.1 0 2-.9 2-2V5c0-1.1-.9-2-2-2zM9 17H7v-7h2v7zm4 0h-2V7h2v10zm4 0h-2v-4h2v4z\"/>\n",
              "    </g>\n",
              "</svg>\n",
              "  </button>\n",
              "\n",
              "<style>\n",
              "  .colab-df-quickchart {\n",
              "      --bg-color: #E8F0FE;\n",
              "      --fill-color: #1967D2;\n",
              "      --hover-bg-color: #E2EBFA;\n",
              "      --hover-fill-color: #174EA6;\n",
              "      --disabled-fill-color: #AAA;\n",
              "      --disabled-bg-color: #DDD;\n",
              "  }\n",
              "\n",
              "  [theme=dark] .colab-df-quickchart {\n",
              "      --bg-color: #3B4455;\n",
              "      --fill-color: #D2E3FC;\n",
              "      --hover-bg-color: #434B5C;\n",
              "      --hover-fill-color: #FFFFFF;\n",
              "      --disabled-bg-color: #3B4455;\n",
              "      --disabled-fill-color: #666;\n",
              "  }\n",
              "\n",
              "  .colab-df-quickchart {\n",
              "    background-color: var(--bg-color);\n",
              "    border: none;\n",
              "    border-radius: 50%;\n",
              "    cursor: pointer;\n",
              "    display: none;\n",
              "    fill: var(--fill-color);\n",
              "    height: 32px;\n",
              "    padding: 0;\n",
              "    width: 32px;\n",
              "  }\n",
              "\n",
              "  .colab-df-quickchart:hover {\n",
              "    background-color: var(--hover-bg-color);\n",
              "    box-shadow: 0 1px 2px rgba(60, 64, 67, 0.3), 0 1px 3px 1px rgba(60, 64, 67, 0.15);\n",
              "    fill: var(--button-hover-fill-color);\n",
              "  }\n",
              "\n",
              "  .colab-df-quickchart-complete:disabled,\n",
              "  .colab-df-quickchart-complete:disabled:hover {\n",
              "    background-color: var(--disabled-bg-color);\n",
              "    fill: var(--disabled-fill-color);\n",
              "    box-shadow: none;\n",
              "  }\n",
              "\n",
              "  .colab-df-spinner {\n",
              "    border: 2px solid var(--fill-color);\n",
              "    border-color: transparent;\n",
              "    border-bottom-color: var(--fill-color);\n",
              "    animation:\n",
              "      spin 1s steps(1) infinite;\n",
              "  }\n",
              "\n",
              "  @keyframes spin {\n",
              "    0% {\n",
              "      border-color: transparent;\n",
              "      border-bottom-color: var(--fill-color);\n",
              "      border-left-color: var(--fill-color);\n",
              "    }\n",
              "    20% {\n",
              "      border-color: transparent;\n",
              "      border-left-color: var(--fill-color);\n",
              "      border-top-color: var(--fill-color);\n",
              "    }\n",
              "    30% {\n",
              "      border-color: transparent;\n",
              "      border-left-color: var(--fill-color);\n",
              "      border-top-color: var(--fill-color);\n",
              "      border-right-color: var(--fill-color);\n",
              "    }\n",
              "    40% {\n",
              "      border-color: transparent;\n",
              "      border-right-color: var(--fill-color);\n",
              "      border-top-color: var(--fill-color);\n",
              "    }\n",
              "    60% {\n",
              "      border-color: transparent;\n",
              "      border-right-color: var(--fill-color);\n",
              "    }\n",
              "    80% {\n",
              "      border-color: transparent;\n",
              "      border-right-color: var(--fill-color);\n",
              "      border-bottom-color: var(--fill-color);\n",
              "    }\n",
              "    90% {\n",
              "      border-color: transparent;\n",
              "      border-bottom-color: var(--fill-color);\n",
              "    }\n",
              "  }\n",
              "</style>\n",
              "\n",
              "  <script>\n",
              "    async function quickchart(key) {\n",
              "      const quickchartButtonEl =\n",
              "        document.querySelector('#' + key + ' button');\n",
              "      quickchartButtonEl.disabled = true;  // To prevent multiple clicks.\n",
              "      quickchartButtonEl.classList.add('colab-df-spinner');\n",
              "      try {\n",
              "        const charts = await google.colab.kernel.invokeFunction(\n",
              "            'suggestCharts', [key], {});\n",
              "      } catch (error) {\n",
              "        console.error('Error during call to suggestCharts:', error);\n",
              "      }\n",
              "      quickchartButtonEl.classList.remove('colab-df-spinner');\n",
              "      quickchartButtonEl.classList.add('colab-df-quickchart-complete');\n",
              "    }\n",
              "    (() => {\n",
              "      let quickchartButtonEl =\n",
              "        document.querySelector('#df-9b3737b3-4ef6-4a4d-9eb9-ffa9829592cb button');\n",
              "      quickchartButtonEl.style.display =\n",
              "        google.colab.kernel.accessAllowed ? 'block' : 'none';\n",
              "    })();\n",
              "  </script>\n",
              "</div>\n",
              "    </div>\n",
              "  </div>\n"
            ],
            "application/vnd.google.colaboratory.intrinsic+json": {
              "type": "dataframe",
              "variable_name": "scores_df",
              "summary": "{\n  \"name\": \"scores_df\",\n  \"rows\": 10,\n  \"fields\": [\n    {\n      \"column\": \"fit_time\",\n      \"properties\": {\n        \"dtype\": \"number\",\n        \"std\": 0.28189351088108394,\n        \"min\": 0.47823286056518555,\n        \"max\": 1.4317727088928223,\n        \"num_unique_values\": 10,\n        \"samples\": [\n          1.4317727088928223,\n          0.9183506965637207,\n          0.7097351551055908\n        ],\n        \"semantic_type\": \"\",\n        \"description\": \"\"\n      }\n    },\n    {\n      \"column\": \"score_time\",\n      \"properties\": {\n        \"dtype\": \"number\",\n        \"std\": 0.0036012730031900076,\n        \"min\": 0.0017468929290771484,\n        \"max\": 0.010650396347045898,\n        \"num_unique_values\": 10,\n        \"samples\": [\n          0.0019631385803222656,\n          0.0021817684173583984,\n          0.0018787384033203125\n        ],\n        \"semantic_type\": \"\",\n        \"description\": \"\"\n      }\n    },\n    {\n      \"column\": \"estimator\",\n      \"properties\": {\n        \"dtype\": \"string\",\n        \"num_unique_values\": 10,\n        \"samples\": [\n          \"LogisticRegression(class_weight='balanced', random_state=42)\",\n          \"LogisticRegression(class_weight='balanced', random_state=42)\",\n          \"LogisticRegression(class_weight='balanced', random_state=42)\"\n        ],\n        \"semantic_type\": \"\",\n        \"description\": \"\"\n      }\n    },\n    {\n      \"column\": \"test_r2_score\",\n      \"properties\": {\n        \"dtype\": \"number\",\n        \"std\": 0.10373229347984186,\n        \"min\": -0.7593487778183146,\n        \"max\": -0.41490534828156567,\n        \"num_unique_values\": 10,\n        \"samples\": [\n          -0.5706681350954477,\n          -0.6692703547142065,\n          -0.6646753009850426\n        ],\n        \"semantic_type\": \"\",\n        \"description\": \"\"\n      }\n    },\n    {\n      \"column\": \"train_r2_score\",\n      \"properties\": {\n        \"dtype\": \"number\",\n        \"std\": 0.02416661519965068,\n        \"min\": 0.46848918778818793,\n        \"max\": 0.5482138319145,\n        \"num_unique_values\": 10,\n        \"samples\": [\n          0.5482138319145,\n          0.5001686401716734,\n          0.5252927610041662\n        ],\n        \"semantic_type\": \"\",\n        \"description\": \"\"\n      }\n    },\n    {\n      \"column\": \"test_MSE\",\n      \"properties\": {\n        \"dtype\": \"number\",\n        \"std\": 0.07780542179377992,\n        \"min\": -1.2890173410404624,\n        \"max\": -1.0289017341040463,\n        \"num_unique_values\": 10,\n        \"samples\": [\n          -1.1569767441860466,\n          -1.2138728323699421,\n          -1.2196531791907514\n        ],\n        \"semantic_type\": \"\",\n        \"description\": \"\"\n      }\n    },\n    {\n      \"column\": \"train_MSE\",\n      \"properties\": {\n        \"dtype\": \"number\",\n        \"std\": 0.017710723559794347,\n        \"min\": -0.38842443729903536,\n        \"max\": -0.3296915167095116,\n        \"num_unique_values\": 9,\n        \"samples\": [\n          -0.3296915167095116,\n          -0.3652733118971061,\n          -0.34662379421221867\n        ],\n        \"semantic_type\": \"\",\n        \"description\": \"\"\n      }\n    },\n    {\n      \"column\": \"test_MAE\",\n      \"properties\": {\n        \"dtype\": \"number\",\n        \"std\": 0.03550159186026805,\n        \"min\": -0.8034682080924855,\n        \"max\": -0.6705202312138728,\n        \"num_unique_values\": 9,\n        \"samples\": [\n          -0.8034682080924855,\n          -0.7398843930635838,\n          -0.7572254335260116\n        ],\n        \"semantic_type\": \"\",\n        \"description\": \"\"\n      }\n    },\n    {\n      \"column\": \"train_MAE\",\n      \"properties\": {\n        \"dtype\": \"number\",\n        \"std\": 0.009433382307058752,\n        \"min\": -0.2315112540192926,\n        \"max\": -0.2011568123393316,\n        \"num_unique_values\": 9,\n        \"samples\": [\n          -0.2011568123393316,\n          -0.21993569131832796,\n          -0.2077170418006431\n        ],\n        \"semantic_type\": \"\",\n        \"description\": \"\"\n      }\n    }\n  ]\n}"
            }
          },
          "metadata": {},
          "execution_count": 74
        }
      ]
    },
    {
      "cell_type": "code",
      "source": [
        "#Предсказание для тестового множества с использованием лучшего эстиматора из кросс-валидации"
      ],
      "metadata": {
        "id": "0tOooHdvqBeX"
      },
      "execution_count": null,
      "outputs": []
    },
    {
      "cell_type": "code",
      "source": [
        "y_pred_cv_0 = scores['estimator'][0].predict(X_test_new)"
      ],
      "metadata": {
        "id": "iUtOi93upGCn"
      },
      "execution_count": 100,
      "outputs": []
    },
    {
      "cell_type": "code",
      "source": [
        "print(r2_score(y_test_new, y_pred_cv_0))\n",
        "print(mean_squared_error(y_test_new, y_pred_cv_0))\n",
        "print(mean_absolute_error(y_test_new, y_pred_cv_0))"
      ],
      "metadata": {
        "colab": {
          "base_uri": "https://localhost:8080/"
        },
        "id": "3boaBSgNpYkf",
        "outputId": "e8c35f36-4086-4fb5-e14e-03ce96442ee4"
      },
      "execution_count": 101,
      "outputs": [
        {
          "output_type": "stream",
          "name": "stdout",
          "text": [
            "-0.49857988165680456\n",
            "1.0856481481481481\n",
            "0.6875\n"
          ]
        }
      ]
    },
    {
      "cell_type": "code",
      "source": [
        "#Задание №2"
      ],
      "metadata": {
        "id": "ZAxFyTtLm86t"
      },
      "execution_count": null,
      "outputs": []
    },
    {
      "cell_type": "code",
      "source": [
        "#делю выборку на тренировочную и тестовую\n",
        "X_train_accept, X_test_accept, y_train_accept, y_test_accept = train_test_split(df_without_na['problem_description'],\n",
        "                                                    df_without_na['acceptance'],\n",
        "                                                    test_size=0.2,\n",
        "                                                    random_state=42\n",
        "                                                    )"
      ],
      "metadata": {
        "id": "2ftrRSEMmsQR"
      },
      "execution_count": 75,
      "outputs": []
    },
    {
      "cell_type": "code",
      "source": [
        "#векторизация\n",
        "tf_idf.fit(X_train_accept)"
      ],
      "metadata": {
        "colab": {
          "base_uri": "https://localhost:8080/",
          "height": 74
        },
        "id": "YgBtT85znehQ",
        "outputId": "10d0f9e5-ac34-40e7-a475-eec21f9a11d5"
      },
      "execution_count": 76,
      "outputs": [
        {
          "output_type": "execute_result",
          "data": {
            "text/plain": [
              "TfidfVectorizer()"
            ],
            "text/html": [
              "<style>#sk-container-id-5 {color: black;background-color: white;}#sk-container-id-5 pre{padding: 0;}#sk-container-id-5 div.sk-toggleable {background-color: white;}#sk-container-id-5 label.sk-toggleable__label {cursor: pointer;display: block;width: 100%;margin-bottom: 0;padding: 0.3em;box-sizing: border-box;text-align: center;}#sk-container-id-5 label.sk-toggleable__label-arrow:before {content: \"▸\";float: left;margin-right: 0.25em;color: #696969;}#sk-container-id-5 label.sk-toggleable__label-arrow:hover:before {color: black;}#sk-container-id-5 div.sk-estimator:hover label.sk-toggleable__label-arrow:before {color: black;}#sk-container-id-5 div.sk-toggleable__content {max-height: 0;max-width: 0;overflow: hidden;text-align: left;background-color: #f0f8ff;}#sk-container-id-5 div.sk-toggleable__content pre {margin: 0.2em;color: black;border-radius: 0.25em;background-color: #f0f8ff;}#sk-container-id-5 input.sk-toggleable__control:checked~div.sk-toggleable__content {max-height: 200px;max-width: 100%;overflow: auto;}#sk-container-id-5 input.sk-toggleable__control:checked~label.sk-toggleable__label-arrow:before {content: \"▾\";}#sk-container-id-5 div.sk-estimator input.sk-toggleable__control:checked~label.sk-toggleable__label {background-color: #d4ebff;}#sk-container-id-5 div.sk-label input.sk-toggleable__control:checked~label.sk-toggleable__label {background-color: #d4ebff;}#sk-container-id-5 input.sk-hidden--visually {border: 0;clip: rect(1px 1px 1px 1px);clip: rect(1px, 1px, 1px, 1px);height: 1px;margin: -1px;overflow: hidden;padding: 0;position: absolute;width: 1px;}#sk-container-id-5 div.sk-estimator {font-family: monospace;background-color: #f0f8ff;border: 1px dotted black;border-radius: 0.25em;box-sizing: border-box;margin-bottom: 0.5em;}#sk-container-id-5 div.sk-estimator:hover {background-color: #d4ebff;}#sk-container-id-5 div.sk-parallel-item::after {content: \"\";width: 100%;border-bottom: 1px solid gray;flex-grow: 1;}#sk-container-id-5 div.sk-label:hover label.sk-toggleable__label {background-color: #d4ebff;}#sk-container-id-5 div.sk-serial::before {content: \"\";position: absolute;border-left: 1px solid gray;box-sizing: border-box;top: 0;bottom: 0;left: 50%;z-index: 0;}#sk-container-id-5 div.sk-serial {display: flex;flex-direction: column;align-items: center;background-color: white;padding-right: 0.2em;padding-left: 0.2em;position: relative;}#sk-container-id-5 div.sk-item {position: relative;z-index: 1;}#sk-container-id-5 div.sk-parallel {display: flex;align-items: stretch;justify-content: center;background-color: white;position: relative;}#sk-container-id-5 div.sk-item::before, #sk-container-id-5 div.sk-parallel-item::before {content: \"\";position: absolute;border-left: 1px solid gray;box-sizing: border-box;top: 0;bottom: 0;left: 50%;z-index: -1;}#sk-container-id-5 div.sk-parallel-item {display: flex;flex-direction: column;z-index: 1;position: relative;background-color: white;}#sk-container-id-5 div.sk-parallel-item:first-child::after {align-self: flex-end;width: 50%;}#sk-container-id-5 div.sk-parallel-item:last-child::after {align-self: flex-start;width: 50%;}#sk-container-id-5 div.sk-parallel-item:only-child::after {width: 0;}#sk-container-id-5 div.sk-dashed-wrapped {border: 1px dashed gray;margin: 0 0.4em 0.5em 0.4em;box-sizing: border-box;padding-bottom: 0.4em;background-color: white;}#sk-container-id-5 div.sk-label label {font-family: monospace;font-weight: bold;display: inline-block;line-height: 1.2em;}#sk-container-id-5 div.sk-label-container {text-align: center;}#sk-container-id-5 div.sk-container {/* jupyter's `normalize.less` sets `[hidden] { display: none; }` but bootstrap.min.css set `[hidden] { display: none !important; }` so we also need the `!important` here to be able to override the default hidden behavior on the sphinx rendered scikit-learn.org. See: https://github.com/scikit-learn/scikit-learn/issues/21755 */display: inline-block !important;position: relative;}#sk-container-id-5 div.sk-text-repr-fallback {display: none;}</style><div id=\"sk-container-id-5\" class=\"sk-top-container\"><div class=\"sk-text-repr-fallback\"><pre>TfidfVectorizer()</pre><b>In a Jupyter environment, please rerun this cell to show the HTML representation or trust the notebook. <br />On GitHub, the HTML representation is unable to render, please try loading this page with nbviewer.org.</b></div><div class=\"sk-container\" hidden><div class=\"sk-item\"><div class=\"sk-estimator sk-toggleable\"><input class=\"sk-toggleable__control sk-hidden--visually\" id=\"sk-estimator-id-5\" type=\"checkbox\" checked><label for=\"sk-estimator-id-5\" class=\"sk-toggleable__label sk-toggleable__label-arrow\">TfidfVectorizer</label><div class=\"sk-toggleable__content\"><pre>TfidfVectorizer()</pre></div></div></div></div></div>"
            ]
          },
          "metadata": {},
          "execution_count": 76
        }
      ]
    },
    {
      "cell_type": "code",
      "source": [
        "X_train_accept_new = tf_idf.transform(X_train_accept)\n",
        "X_test_accept_new = tf_idf.transform(X_test_accept)"
      ],
      "metadata": {
        "id": "s6ehau3yoHvH"
      },
      "execution_count": 77,
      "outputs": []
    },
    {
      "cell_type": "code",
      "source": [
        "X_test_accept_new"
      ],
      "metadata": {
        "colab": {
          "base_uri": "https://localhost:8080/"
        },
        "id": "AdrI4-KCoNt6",
        "outputId": "3af7de17-777f-465c-be59-f7b5446468ec"
      },
      "execution_count": 78,
      "outputs": [
        {
          "output_type": "execute_result",
          "data": {
            "text/plain": [
              "<432x7598 sparse matrix of type '<class 'numpy.float64'>'\n",
              "\twith 27578 stored elements in Compressed Sparse Row format>"
            ]
          },
          "metadata": {},
          "execution_count": 78
        }
      ]
    },
    {
      "cell_type": "code",
      "source": [
        "X_train_accept_new"
      ],
      "metadata": {
        "colab": {
          "base_uri": "https://localhost:8080/"
        },
        "id": "LgLomc59K5lW",
        "outputId": "468594b3-b3ce-4568-ede0-ae912404f53b"
      },
      "execution_count": 79,
      "outputs": [
        {
          "output_type": "execute_result",
          "data": {
            "text/plain": [
              "<1728x7598 sparse matrix of type '<class 'numpy.float64'>'\n",
              "\twith 112887 stored elements in Compressed Sparse Row format>"
            ]
          },
          "metadata": {},
          "execution_count": 79
        }
      ]
    },
    {
      "cell_type": "code",
      "source": [
        "#Предсказание процента принятых решений по тексту задания с помощью KNN-регрессии"
      ],
      "metadata": {
        "id": "MyOP2atgngfM"
      },
      "execution_count": null,
      "outputs": []
    },
    {
      "cell_type": "code",
      "source": [
        "from sklearn.neighbors import KNeighborsRegressor"
      ],
      "metadata": {
        "id": "aGJVeIr5PFPT"
      },
      "execution_count": 80,
      "outputs": []
    },
    {
      "cell_type": "code",
      "source": [
        "knn = KNeighborsRegressor(n_neighbors=5, weights='uniform')"
      ],
      "metadata": {
        "id": "pDL5CNpvPKv0"
      },
      "execution_count": 81,
      "outputs": []
    },
    {
      "cell_type": "code",
      "source": [
        "knn.fit(X_train_accept_new, np.array(y_train_accept))"
      ],
      "metadata": {
        "colab": {
          "base_uri": "https://localhost:8080/",
          "height": 74
        },
        "id": "qp27yuV2PNmV",
        "outputId": "bf3758fa-dada-48cc-e5d8-514f014b8b7d"
      },
      "execution_count": 82,
      "outputs": [
        {
          "output_type": "execute_result",
          "data": {
            "text/plain": [
              "KNeighborsRegressor()"
            ],
            "text/html": [
              "<style>#sk-container-id-6 {color: black;background-color: white;}#sk-container-id-6 pre{padding: 0;}#sk-container-id-6 div.sk-toggleable {background-color: white;}#sk-container-id-6 label.sk-toggleable__label {cursor: pointer;display: block;width: 100%;margin-bottom: 0;padding: 0.3em;box-sizing: border-box;text-align: center;}#sk-container-id-6 label.sk-toggleable__label-arrow:before {content: \"▸\";float: left;margin-right: 0.25em;color: #696969;}#sk-container-id-6 label.sk-toggleable__label-arrow:hover:before {color: black;}#sk-container-id-6 div.sk-estimator:hover label.sk-toggleable__label-arrow:before {color: black;}#sk-container-id-6 div.sk-toggleable__content {max-height: 0;max-width: 0;overflow: hidden;text-align: left;background-color: #f0f8ff;}#sk-container-id-6 div.sk-toggleable__content pre {margin: 0.2em;color: black;border-radius: 0.25em;background-color: #f0f8ff;}#sk-container-id-6 input.sk-toggleable__control:checked~div.sk-toggleable__content {max-height: 200px;max-width: 100%;overflow: auto;}#sk-container-id-6 input.sk-toggleable__control:checked~label.sk-toggleable__label-arrow:before {content: \"▾\";}#sk-container-id-6 div.sk-estimator input.sk-toggleable__control:checked~label.sk-toggleable__label {background-color: #d4ebff;}#sk-container-id-6 div.sk-label input.sk-toggleable__control:checked~label.sk-toggleable__label {background-color: #d4ebff;}#sk-container-id-6 input.sk-hidden--visually {border: 0;clip: rect(1px 1px 1px 1px);clip: rect(1px, 1px, 1px, 1px);height: 1px;margin: -1px;overflow: hidden;padding: 0;position: absolute;width: 1px;}#sk-container-id-6 div.sk-estimator {font-family: monospace;background-color: #f0f8ff;border: 1px dotted black;border-radius: 0.25em;box-sizing: border-box;margin-bottom: 0.5em;}#sk-container-id-6 div.sk-estimator:hover {background-color: #d4ebff;}#sk-container-id-6 div.sk-parallel-item::after {content: \"\";width: 100%;border-bottom: 1px solid gray;flex-grow: 1;}#sk-container-id-6 div.sk-label:hover label.sk-toggleable__label {background-color: #d4ebff;}#sk-container-id-6 div.sk-serial::before {content: \"\";position: absolute;border-left: 1px solid gray;box-sizing: border-box;top: 0;bottom: 0;left: 50%;z-index: 0;}#sk-container-id-6 div.sk-serial {display: flex;flex-direction: column;align-items: center;background-color: white;padding-right: 0.2em;padding-left: 0.2em;position: relative;}#sk-container-id-6 div.sk-item {position: relative;z-index: 1;}#sk-container-id-6 div.sk-parallel {display: flex;align-items: stretch;justify-content: center;background-color: white;position: relative;}#sk-container-id-6 div.sk-item::before, #sk-container-id-6 div.sk-parallel-item::before {content: \"\";position: absolute;border-left: 1px solid gray;box-sizing: border-box;top: 0;bottom: 0;left: 50%;z-index: -1;}#sk-container-id-6 div.sk-parallel-item {display: flex;flex-direction: column;z-index: 1;position: relative;background-color: white;}#sk-container-id-6 div.sk-parallel-item:first-child::after {align-self: flex-end;width: 50%;}#sk-container-id-6 div.sk-parallel-item:last-child::after {align-self: flex-start;width: 50%;}#sk-container-id-6 div.sk-parallel-item:only-child::after {width: 0;}#sk-container-id-6 div.sk-dashed-wrapped {border: 1px dashed gray;margin: 0 0.4em 0.5em 0.4em;box-sizing: border-box;padding-bottom: 0.4em;background-color: white;}#sk-container-id-6 div.sk-label label {font-family: monospace;font-weight: bold;display: inline-block;line-height: 1.2em;}#sk-container-id-6 div.sk-label-container {text-align: center;}#sk-container-id-6 div.sk-container {/* jupyter's `normalize.less` sets `[hidden] { display: none; }` but bootstrap.min.css set `[hidden] { display: none !important; }` so we also need the `!important` here to be able to override the default hidden behavior on the sphinx rendered scikit-learn.org. See: https://github.com/scikit-learn/scikit-learn/issues/21755 */display: inline-block !important;position: relative;}#sk-container-id-6 div.sk-text-repr-fallback {display: none;}</style><div id=\"sk-container-id-6\" class=\"sk-top-container\"><div class=\"sk-text-repr-fallback\"><pre>KNeighborsRegressor()</pre><b>In a Jupyter environment, please rerun this cell to show the HTML representation or trust the notebook. <br />On GitHub, the HTML representation is unable to render, please try loading this page with nbviewer.org.</b></div><div class=\"sk-container\" hidden><div class=\"sk-item\"><div class=\"sk-estimator sk-toggleable\"><input class=\"sk-toggleable__control sk-hidden--visually\" id=\"sk-estimator-id-6\" type=\"checkbox\" checked><label for=\"sk-estimator-id-6\" class=\"sk-toggleable__label sk-toggleable__label-arrow\">KNeighborsRegressor</label><div class=\"sk-toggleable__content\"><pre>KNeighborsRegressor()</pre></div></div></div></div></div>"
            ]
          },
          "metadata": {},
          "execution_count": 82
        }
      ]
    },
    {
      "cell_type": "code",
      "source": [
        "y_pred_knn = knn.predict(X_test_accept_new)"
      ],
      "metadata": {
        "id": "useJTkOGPOnG"
      },
      "execution_count": 83,
      "outputs": []
    },
    {
      "cell_type": "code",
      "source": [
        "from sklearn.metrics import mean_squared_error, r2_score, mean_absolute_error"
      ],
      "metadata": {
        "id": "xwE-aiWPVlCh"
      },
      "execution_count": 84,
      "outputs": []
    },
    {
      "cell_type": "code",
      "source": [
        "print(\"Mean squared error: %.2f\" % mean_squared_error(y_test_accept, y_pred_knn))\n",
        "print(\"R squared: %.2f\" % r2_score(y_test_accept, y_pred_knn))\n",
        "print('Mean absolute error: %.2f' % mean_absolute_error(y_test_accept, y_pred_knn))"
      ],
      "metadata": {
        "colab": {
          "base_uri": "https://localhost:8080/"
        },
        "id": "HhPdFiMtPRv3",
        "outputId": "edce7b6a-fc10-4316-c7d4-42af9edd093b"
      },
      "execution_count": 87,
      "outputs": [
        {
          "output_type": "stream",
          "name": "stdout",
          "text": [
            "Mean squared error: 253.50\n",
            "R squared: -0.07\n",
            "Mean absolute error: 12.88\n"
          ]
        }
      ]
    },
    {
      "cell_type": "code",
      "source": [
        "Вывод: Данные метрик оценок свидетельствуют о том, что модель KNN-регрессии показывает плохие результаты.\n",
        "       Это может быть результатом или недообученности модели, или того, что модель была неправильно подобрана."
      ],
      "metadata": {
        "id": "21hm-EtMwHsj"
      },
      "execution_count": null,
      "outputs": []
    },
    {
      "cell_type": "code",
      "source": [
        "#Предсказание процента принятых решений по тексту задания с помощью Decision Tree Regressor"
      ],
      "metadata": {
        "id": "56Wygqqkn9Rs"
      },
      "execution_count": null,
      "outputs": []
    },
    {
      "cell_type": "code",
      "source": [
        "from sklearn.tree import DecisionTreeRegressor"
      ],
      "metadata": {
        "id": "XZ8T5OOZjPWD"
      },
      "execution_count": 90,
      "outputs": []
    },
    {
      "cell_type": "code",
      "source": [
        "regressor = DecisionTreeRegressor(random_state=0)"
      ],
      "metadata": {
        "id": "7NivP3zLVqrM"
      },
      "execution_count": 91,
      "outputs": []
    },
    {
      "cell_type": "code",
      "source": [
        "regressor.fit(X_train_accept_new, y_train_accept, sample_weight=None, check_input=True)"
      ],
      "metadata": {
        "colab": {
          "base_uri": "https://localhost:8080/",
          "height": 74
        },
        "id": "8FPmPJd6mc_b",
        "outputId": "aead4c36-173b-4795-f918-fde3b1267d45"
      },
      "execution_count": 92,
      "outputs": [
        {
          "output_type": "execute_result",
          "data": {
            "text/plain": [
              "DecisionTreeRegressor(random_state=0)"
            ],
            "text/html": [
              "<style>#sk-container-id-7 {color: black;background-color: white;}#sk-container-id-7 pre{padding: 0;}#sk-container-id-7 div.sk-toggleable {background-color: white;}#sk-container-id-7 label.sk-toggleable__label {cursor: pointer;display: block;width: 100%;margin-bottom: 0;padding: 0.3em;box-sizing: border-box;text-align: center;}#sk-container-id-7 label.sk-toggleable__label-arrow:before {content: \"▸\";float: left;margin-right: 0.25em;color: #696969;}#sk-container-id-7 label.sk-toggleable__label-arrow:hover:before {color: black;}#sk-container-id-7 div.sk-estimator:hover label.sk-toggleable__label-arrow:before {color: black;}#sk-container-id-7 div.sk-toggleable__content {max-height: 0;max-width: 0;overflow: hidden;text-align: left;background-color: #f0f8ff;}#sk-container-id-7 div.sk-toggleable__content pre {margin: 0.2em;color: black;border-radius: 0.25em;background-color: #f0f8ff;}#sk-container-id-7 input.sk-toggleable__control:checked~div.sk-toggleable__content {max-height: 200px;max-width: 100%;overflow: auto;}#sk-container-id-7 input.sk-toggleable__control:checked~label.sk-toggleable__label-arrow:before {content: \"▾\";}#sk-container-id-7 div.sk-estimator input.sk-toggleable__control:checked~label.sk-toggleable__label {background-color: #d4ebff;}#sk-container-id-7 div.sk-label input.sk-toggleable__control:checked~label.sk-toggleable__label {background-color: #d4ebff;}#sk-container-id-7 input.sk-hidden--visually {border: 0;clip: rect(1px 1px 1px 1px);clip: rect(1px, 1px, 1px, 1px);height: 1px;margin: -1px;overflow: hidden;padding: 0;position: absolute;width: 1px;}#sk-container-id-7 div.sk-estimator {font-family: monospace;background-color: #f0f8ff;border: 1px dotted black;border-radius: 0.25em;box-sizing: border-box;margin-bottom: 0.5em;}#sk-container-id-7 div.sk-estimator:hover {background-color: #d4ebff;}#sk-container-id-7 div.sk-parallel-item::after {content: \"\";width: 100%;border-bottom: 1px solid gray;flex-grow: 1;}#sk-container-id-7 div.sk-label:hover label.sk-toggleable__label {background-color: #d4ebff;}#sk-container-id-7 div.sk-serial::before {content: \"\";position: absolute;border-left: 1px solid gray;box-sizing: border-box;top: 0;bottom: 0;left: 50%;z-index: 0;}#sk-container-id-7 div.sk-serial {display: flex;flex-direction: column;align-items: center;background-color: white;padding-right: 0.2em;padding-left: 0.2em;position: relative;}#sk-container-id-7 div.sk-item {position: relative;z-index: 1;}#sk-container-id-7 div.sk-parallel {display: flex;align-items: stretch;justify-content: center;background-color: white;position: relative;}#sk-container-id-7 div.sk-item::before, #sk-container-id-7 div.sk-parallel-item::before {content: \"\";position: absolute;border-left: 1px solid gray;box-sizing: border-box;top: 0;bottom: 0;left: 50%;z-index: -1;}#sk-container-id-7 div.sk-parallel-item {display: flex;flex-direction: column;z-index: 1;position: relative;background-color: white;}#sk-container-id-7 div.sk-parallel-item:first-child::after {align-self: flex-end;width: 50%;}#sk-container-id-7 div.sk-parallel-item:last-child::after {align-self: flex-start;width: 50%;}#sk-container-id-7 div.sk-parallel-item:only-child::after {width: 0;}#sk-container-id-7 div.sk-dashed-wrapped {border: 1px dashed gray;margin: 0 0.4em 0.5em 0.4em;box-sizing: border-box;padding-bottom: 0.4em;background-color: white;}#sk-container-id-7 div.sk-label label {font-family: monospace;font-weight: bold;display: inline-block;line-height: 1.2em;}#sk-container-id-7 div.sk-label-container {text-align: center;}#sk-container-id-7 div.sk-container {/* jupyter's `normalize.less` sets `[hidden] { display: none; }` but bootstrap.min.css set `[hidden] { display: none !important; }` so we also need the `!important` here to be able to override the default hidden behavior on the sphinx rendered scikit-learn.org. See: https://github.com/scikit-learn/scikit-learn/issues/21755 */display: inline-block !important;position: relative;}#sk-container-id-7 div.sk-text-repr-fallback {display: none;}</style><div id=\"sk-container-id-7\" class=\"sk-top-container\"><div class=\"sk-text-repr-fallback\"><pre>DecisionTreeRegressor(random_state=0)</pre><b>In a Jupyter environment, please rerun this cell to show the HTML representation or trust the notebook. <br />On GitHub, the HTML representation is unable to render, please try loading this page with nbviewer.org.</b></div><div class=\"sk-container\" hidden><div class=\"sk-item\"><div class=\"sk-estimator sk-toggleable\"><input class=\"sk-toggleable__control sk-hidden--visually\" id=\"sk-estimator-id-7\" type=\"checkbox\" checked><label for=\"sk-estimator-id-7\" class=\"sk-toggleable__label sk-toggleable__label-arrow\">DecisionTreeRegressor</label><div class=\"sk-toggleable__content\"><pre>DecisionTreeRegressor(random_state=0)</pre></div></div></div></div></div>"
            ]
          },
          "metadata": {},
          "execution_count": 92
        }
      ]
    },
    {
      "cell_type": "code",
      "source": [
        "y_accept_pred_destree = regressor.predict(X_test_accept_new, check_input = True)"
      ],
      "metadata": {
        "id": "15-YgOJlj6KR"
      },
      "execution_count": 93,
      "outputs": []
    },
    {
      "cell_type": "code",
      "source": [
        "print(\"Mean squared error: %.2f\" % mean_squared_error(y_test_accept, y_accept_pred_destree))\n",
        "print(\"R squared: %.2f\" % r2_score(y_test_accept, y_accept_pred_destree))\n",
        "print('Mean absolute error: %.2f' % mean_absolute_error(y_test_accept, y_accept_pred_destree))"
      ],
      "metadata": {
        "colab": {
          "base_uri": "https://localhost:8080/"
        },
        "id": "zsoXvS8Inq7P",
        "outputId": "a788ecbf-1739-454b-acf7-2b8560c936e9"
      },
      "execution_count": 94,
      "outputs": [
        {
          "output_type": "stream",
          "name": "stdout",
          "text": [
            "Mean squared error: 377.83\n",
            "R squared: -0.60\n",
            "Mean absolute error: 15.58\n"
          ]
        }
      ]
    },
    {
      "cell_type": "code",
      "source": [
        "Вывод: Так как Decision Tree Regressor показывает схожие результы с KNN-регрессией,\n",
        "       можно предположить, что плохие результаты связаны с характером данных."
      ],
      "metadata": {
        "id": "ldu137sRysDi"
      },
      "execution_count": null,
      "outputs": []
    },
    {
      "cell_type": "code",
      "source": [
        "#Подбор гиперпараметров"
      ],
      "metadata": {
        "id": "XgG3HOFOoGXj"
      },
      "execution_count": null,
      "outputs": []
    },
    {
      "cell_type": "code",
      "source": [
        "from sklearn.model_selection import GridSearchCV"
      ],
      "metadata": {
        "id": "H4eOCJ_J12wg"
      },
      "execution_count": 95,
      "outputs": []
    },
    {
      "cell_type": "code",
      "source": [
        "param_grid = {'criterion': ['squared_error', 'absolute_error', 'poisson'], 'max_depth': [2,5]}"
      ],
      "metadata": {
        "id": "RBACrxCD1_G1"
      },
      "execution_count": 96,
      "outputs": []
    },
    {
      "cell_type": "code",
      "source": [
        "grid_search = GridSearchCV(regressor, param_grid, n_jobs = 2, cv=10, return_train_score=True, verbose=1, error_score = 'raise')"
      ],
      "metadata": {
        "id": "w7s2EP-k7DJK"
      },
      "execution_count": 97,
      "outputs": []
    },
    {
      "cell_type": "code",
      "source": [
        "%%time\n",
        "grid_search.fit(X_train_accept_new, y_train_accept)"
      ],
      "metadata": {
        "colab": {
          "base_uri": "https://localhost:8080/",
          "height": 171
        },
        "id": "1I031P1V7VQL",
        "outputId": "abc6b3e7-83b5-4533-d944-d071d512ff0c"
      },
      "execution_count": 98,
      "outputs": [
        {
          "output_type": "stream",
          "name": "stdout",
          "text": [
            "Fitting 10 folds for each of 6 candidates, totalling 60 fits\n",
            "CPU times: user 2.44 s, sys: 539 ms, total: 2.98 s\n",
            "Wall time: 3min 51s\n"
          ]
        },
        {
          "output_type": "execute_result",
          "data": {
            "text/plain": [
              "GridSearchCV(cv=10, error_score='raise',\n",
              "             estimator=DecisionTreeRegressor(random_state=0), n_jobs=2,\n",
              "             param_grid={'criterion': ['squared_error', 'absolute_error',\n",
              "                                       'poisson'],\n",
              "                         'max_depth': [2, 5]},\n",
              "             return_train_score=True, verbose=1)"
            ],
            "text/html": [
              "<style>#sk-container-id-8 {color: black;background-color: white;}#sk-container-id-8 pre{padding: 0;}#sk-container-id-8 div.sk-toggleable {background-color: white;}#sk-container-id-8 label.sk-toggleable__label {cursor: pointer;display: block;width: 100%;margin-bottom: 0;padding: 0.3em;box-sizing: border-box;text-align: center;}#sk-container-id-8 label.sk-toggleable__label-arrow:before {content: \"▸\";float: left;margin-right: 0.25em;color: #696969;}#sk-container-id-8 label.sk-toggleable__label-arrow:hover:before {color: black;}#sk-container-id-8 div.sk-estimator:hover label.sk-toggleable__label-arrow:before {color: black;}#sk-container-id-8 div.sk-toggleable__content {max-height: 0;max-width: 0;overflow: hidden;text-align: left;background-color: #f0f8ff;}#sk-container-id-8 div.sk-toggleable__content pre {margin: 0.2em;color: black;border-radius: 0.25em;background-color: #f0f8ff;}#sk-container-id-8 input.sk-toggleable__control:checked~div.sk-toggleable__content {max-height: 200px;max-width: 100%;overflow: auto;}#sk-container-id-8 input.sk-toggleable__control:checked~label.sk-toggleable__label-arrow:before {content: \"▾\";}#sk-container-id-8 div.sk-estimator input.sk-toggleable__control:checked~label.sk-toggleable__label {background-color: #d4ebff;}#sk-container-id-8 div.sk-label input.sk-toggleable__control:checked~label.sk-toggleable__label {background-color: #d4ebff;}#sk-container-id-8 input.sk-hidden--visually {border: 0;clip: rect(1px 1px 1px 1px);clip: rect(1px, 1px, 1px, 1px);height: 1px;margin: -1px;overflow: hidden;padding: 0;position: absolute;width: 1px;}#sk-container-id-8 div.sk-estimator {font-family: monospace;background-color: #f0f8ff;border: 1px dotted black;border-radius: 0.25em;box-sizing: border-box;margin-bottom: 0.5em;}#sk-container-id-8 div.sk-estimator:hover {background-color: #d4ebff;}#sk-container-id-8 div.sk-parallel-item::after {content: \"\";width: 100%;border-bottom: 1px solid gray;flex-grow: 1;}#sk-container-id-8 div.sk-label:hover label.sk-toggleable__label {background-color: #d4ebff;}#sk-container-id-8 div.sk-serial::before {content: \"\";position: absolute;border-left: 1px solid gray;box-sizing: border-box;top: 0;bottom: 0;left: 50%;z-index: 0;}#sk-container-id-8 div.sk-serial {display: flex;flex-direction: column;align-items: center;background-color: white;padding-right: 0.2em;padding-left: 0.2em;position: relative;}#sk-container-id-8 div.sk-item {position: relative;z-index: 1;}#sk-container-id-8 div.sk-parallel {display: flex;align-items: stretch;justify-content: center;background-color: white;position: relative;}#sk-container-id-8 div.sk-item::before, #sk-container-id-8 div.sk-parallel-item::before {content: \"\";position: absolute;border-left: 1px solid gray;box-sizing: border-box;top: 0;bottom: 0;left: 50%;z-index: -1;}#sk-container-id-8 div.sk-parallel-item {display: flex;flex-direction: column;z-index: 1;position: relative;background-color: white;}#sk-container-id-8 div.sk-parallel-item:first-child::after {align-self: flex-end;width: 50%;}#sk-container-id-8 div.sk-parallel-item:last-child::after {align-self: flex-start;width: 50%;}#sk-container-id-8 div.sk-parallel-item:only-child::after {width: 0;}#sk-container-id-8 div.sk-dashed-wrapped {border: 1px dashed gray;margin: 0 0.4em 0.5em 0.4em;box-sizing: border-box;padding-bottom: 0.4em;background-color: white;}#sk-container-id-8 div.sk-label label {font-family: monospace;font-weight: bold;display: inline-block;line-height: 1.2em;}#sk-container-id-8 div.sk-label-container {text-align: center;}#sk-container-id-8 div.sk-container {/* jupyter's `normalize.less` sets `[hidden] { display: none; }` but bootstrap.min.css set `[hidden] { display: none !important; }` so we also need the `!important` here to be able to override the default hidden behavior on the sphinx rendered scikit-learn.org. See: https://github.com/scikit-learn/scikit-learn/issues/21755 */display: inline-block !important;position: relative;}#sk-container-id-8 div.sk-text-repr-fallback {display: none;}</style><div id=\"sk-container-id-8\" class=\"sk-top-container\"><div class=\"sk-text-repr-fallback\"><pre>GridSearchCV(cv=10, error_score=&#x27;raise&#x27;,\n",
              "             estimator=DecisionTreeRegressor(random_state=0), n_jobs=2,\n",
              "             param_grid={&#x27;criterion&#x27;: [&#x27;squared_error&#x27;, &#x27;absolute_error&#x27;,\n",
              "                                       &#x27;poisson&#x27;],\n",
              "                         &#x27;max_depth&#x27;: [2, 5]},\n",
              "             return_train_score=True, verbose=1)</pre><b>In a Jupyter environment, please rerun this cell to show the HTML representation or trust the notebook. <br />On GitHub, the HTML representation is unable to render, please try loading this page with nbviewer.org.</b></div><div class=\"sk-container\" hidden><div class=\"sk-item sk-dashed-wrapped\"><div class=\"sk-label-container\"><div class=\"sk-label sk-toggleable\"><input class=\"sk-toggleable__control sk-hidden--visually\" id=\"sk-estimator-id-8\" type=\"checkbox\" ><label for=\"sk-estimator-id-8\" class=\"sk-toggleable__label sk-toggleable__label-arrow\">GridSearchCV</label><div class=\"sk-toggleable__content\"><pre>GridSearchCV(cv=10, error_score=&#x27;raise&#x27;,\n",
              "             estimator=DecisionTreeRegressor(random_state=0), n_jobs=2,\n",
              "             param_grid={&#x27;criterion&#x27;: [&#x27;squared_error&#x27;, &#x27;absolute_error&#x27;,\n",
              "                                       &#x27;poisson&#x27;],\n",
              "                         &#x27;max_depth&#x27;: [2, 5]},\n",
              "             return_train_score=True, verbose=1)</pre></div></div></div><div class=\"sk-parallel\"><div class=\"sk-parallel-item\"><div class=\"sk-item\"><div class=\"sk-label-container\"><div class=\"sk-label sk-toggleable\"><input class=\"sk-toggleable__control sk-hidden--visually\" id=\"sk-estimator-id-9\" type=\"checkbox\" ><label for=\"sk-estimator-id-9\" class=\"sk-toggleable__label sk-toggleable__label-arrow\">estimator: DecisionTreeRegressor</label><div class=\"sk-toggleable__content\"><pre>DecisionTreeRegressor(random_state=0)</pre></div></div></div><div class=\"sk-serial\"><div class=\"sk-item\"><div class=\"sk-estimator sk-toggleable\"><input class=\"sk-toggleable__control sk-hidden--visually\" id=\"sk-estimator-id-10\" type=\"checkbox\" ><label for=\"sk-estimator-id-10\" class=\"sk-toggleable__label sk-toggleable__label-arrow\">DecisionTreeRegressor</label><div class=\"sk-toggleable__content\"><pre>DecisionTreeRegressor(random_state=0)</pre></div></div></div></div></div></div></div></div></div></div>"
            ]
          },
          "metadata": {},
          "execution_count": 98
        }
      ]
    },
    {
      "cell_type": "code",
      "source": [
        "grid_search.cv_results_"
      ],
      "metadata": {
        "colab": {
          "base_uri": "https://localhost:8080/"
        },
        "id": "DAcroR8c_ABf",
        "outputId": "acd97bd8-12e6-4181-bfbc-ae081b418ee0"
      },
      "execution_count": 81,
      "outputs": [
        {
          "output_type": "execute_result",
          "data": {
            "text/plain": [
              "{'mean_fit_time': array([ 0.0600071 ,  0.07944322, 13.09197884, 18.516081  ,  0.04291761,\n",
              "         0.09232266]),\n",
              " 'std_fit_time': array([0.01472342, 0.00466853, 0.53262821, 1.15253829, 0.00223463,\n",
              "        0.00399727]),\n",
              " 'mean_score_time': array([0.00218909, 0.0013865 , 0.001443  , 0.00153453, 0.0013876 ,\n",
              "        0.00136728]),\n",
              " 'std_score_time': array([1.05215483e-03, 2.82829082e-04, 1.04329595e-04, 3.82414721e-04,\n",
              "        1.18541900e-04, 6.96962227e-05]),\n",
              " 'param_criterion': masked_array(data=['squared_error', 'squared_error', 'absolute_error',\n",
              "                    'absolute_error', 'poisson', 'poisson'],\n",
              "              mask=[False, False, False, False, False, False],\n",
              "        fill_value='?',\n",
              "             dtype=object),\n",
              " 'param_max_depth': masked_array(data=[2, 5, 2, 5, 2, 5],\n",
              "              mask=[False, False, False, False, False, False],\n",
              "        fill_value='?',\n",
              "             dtype=object),\n",
              " 'params': [{'criterion': 'squared_error', 'max_depth': 2},\n",
              "  {'criterion': 'squared_error', 'max_depth': 5},\n",
              "  {'criterion': 'absolute_error', 'max_depth': 2},\n",
              "  {'criterion': 'absolute_error', 'max_depth': 5},\n",
              "  {'criterion': 'poisson', 'max_depth': 2},\n",
              "  {'criterion': 'poisson', 'max_depth': 5}],\n",
              " 'split0_test_score': array([0.07698869, 0.05337098, 0.11111752, 0.06794499, 0.07698869,\n",
              "        0.05369574]),\n",
              " 'split1_test_score': array([ 0.11496102, -0.00951476,  0.0978996 ,  0.00426978,  0.11496102,\n",
              "        -0.01614961]),\n",
              " 'split2_test_score': array([0.03595363, 0.05362656, 0.05005267, 0.01483509, 0.03595363,\n",
              "        0.02813995]),\n",
              " 'split3_test_score': array([ 0.07180168,  0.08350826,  0.0421702 , -0.11811969,  0.07180168,\n",
              "         0.11380073]),\n",
              " 'split4_test_score': array([ 0.03984453, -0.06211389,  0.01502934, -0.07085541,  0.03984453,\n",
              "        -0.02471659]),\n",
              " 'split5_test_score': array([ 0.09830395,  0.08893722,  0.05119468, -0.00025253,  0.09830395,\n",
              "         0.06920148]),\n",
              " 'split6_test_score': array([-0.0113056 ,  0.0040948 , -0.01455169, -0.02207041, -0.0113056 ,\n",
              "         0.08292699]),\n",
              " 'split7_test_score': array([ 0.07998857,  0.01535741, -0.00373879, -0.0916519 ,  0.07998857,\n",
              "        -0.02849977]),\n",
              " 'split8_test_score': array([0.12702896, 0.11454052, 0.12381445, 0.17603342, 0.12702896,\n",
              "        0.1799216 ]),\n",
              " 'split9_test_score': array([0.14778282, 0.07199464, 0.15639467, 0.15407924, 0.14778282,\n",
              "        0.00720552]),\n",
              " 'mean_test_score': array([0.07813482, 0.04138017, 0.06293826, 0.01142126, 0.07813482,\n",
              "        0.0465526 ]),\n",
              " 'std_test_score': array([0.04504918, 0.050979  , 0.0542813 , 0.09281086, 0.04504918,\n",
              "        0.06381821]),\n",
              " 'rank_test_score': array([1, 5, 3, 6, 1, 4], dtype=int32),\n",
              " 'split0_train_score': array([0.11541597, 0.29429796, 0.09969502, 0.25484669, 0.11541597,\n",
              "        0.28413042]),\n",
              " 'split1_train_score': array([0.11325653, 0.29027627, 0.10936609, 0.25611904, 0.11325653,\n",
              "        0.28407464]),\n",
              " 'split2_train_score': array([0.11741495, 0.28394684, 0.09960131, 0.23693341, 0.11741495,\n",
              "        0.28603584]),\n",
              " 'split3_train_score': array([0.1151562 , 0.28376119, 0.10912363, 0.25269703, 0.1151562 ,\n",
              "        0.27381328]),\n",
              " 'split4_train_score': array([0.12056967, 0.29693586, 0.11430098, 0.24120665, 0.12056967,\n",
              "        0.28170959]),\n",
              " 'split5_train_score': array([0.11486945, 0.29740781, 0.10888047, 0.24566279, 0.11486945,\n",
              "        0.29184818]),\n",
              " 'split6_train_score': array([0.11777053, 0.29670779, 0.11708676, 0.28215181, 0.11777053,\n",
              "        0.29135644]),\n",
              " 'split7_train_score': array([0.11638952, 0.28779684, 0.11423026, 0.25844555, 0.11638952,\n",
              "        0.27129536]),\n",
              " 'split8_train_score': array([0.10883777, 0.27593893, 0.10414535, 0.26624629, 0.10883777,\n",
              "        0.2753363 ]),\n",
              " 'split9_train_score': array([0.10407613, 0.28501914, 0.09126172, 0.24170115, 0.10407613,\n",
              "        0.28018206]),\n",
              " 'mean_train_score': array([0.11437567, 0.28920886, 0.10676916, 0.25360104, 0.11437567,\n",
              "        0.28197821]),\n",
              " 'std_train_score': array([0.00450689, 0.00680592, 0.00764448, 0.01281905, 0.00450689,\n",
              "        0.00662617])}"
            ]
          },
          "metadata": {},
          "execution_count": 81
        }
      ]
    },
    {
      "cell_type": "code",
      "source": [
        "grid_search_res_df = pd.DataFrame(grid_search.cv_results_)"
      ],
      "metadata": {
        "id": "lhl3YiSI_Dw3"
      },
      "execution_count": 82,
      "outputs": []
    },
    {
      "cell_type": "code",
      "source": [
        "grid_search_res_df"
      ],
      "metadata": {
        "colab": {
          "base_uri": "https://localhost:8080/",
          "height": 495
        },
        "id": "0a5l2Emc_TFr",
        "outputId": "ecbd031a-92c2-4272-db91-1fec4f2ca840"
      },
      "execution_count": 83,
      "outputs": [
        {
          "output_type": "execute_result",
          "data": {
            "text/plain": [
              "   mean_fit_time  std_fit_time  mean_score_time  std_score_time  \\\n",
              "0       0.060007      0.014723         0.002189        0.001052   \n",
              "1       0.079443      0.004669         0.001386        0.000283   \n",
              "2      13.091979      0.532628         0.001443        0.000104   \n",
              "3      18.516081      1.152538         0.001535        0.000382   \n",
              "4       0.042918      0.002235         0.001388        0.000119   \n",
              "5       0.092323      0.003997         0.001367        0.000070   \n",
              "\n",
              "  param_criterion param_max_depth  \\\n",
              "0   squared_error               2   \n",
              "1   squared_error               5   \n",
              "2  absolute_error               2   \n",
              "3  absolute_error               5   \n",
              "4         poisson               2   \n",
              "5         poisson               5   \n",
              "\n",
              "                                            params  split0_test_score  \\\n",
              "0   {'criterion': 'squared_error', 'max_depth': 2}           0.076989   \n",
              "1   {'criterion': 'squared_error', 'max_depth': 5}           0.053371   \n",
              "2  {'criterion': 'absolute_error', 'max_depth': 2}           0.111118   \n",
              "3  {'criterion': 'absolute_error', 'max_depth': 5}           0.067945   \n",
              "4         {'criterion': 'poisson', 'max_depth': 2}           0.076989   \n",
              "5         {'criterion': 'poisson', 'max_depth': 5}           0.053696   \n",
              "\n",
              "   split1_test_score  split2_test_score  ...  split2_train_score  \\\n",
              "0           0.114961           0.035954  ...            0.117415   \n",
              "1          -0.009515           0.053627  ...            0.283947   \n",
              "2           0.097900           0.050053  ...            0.099601   \n",
              "3           0.004270           0.014835  ...            0.236933   \n",
              "4           0.114961           0.035954  ...            0.117415   \n",
              "5          -0.016150           0.028140  ...            0.286036   \n",
              "\n",
              "   split3_train_score  split4_train_score  split5_train_score  \\\n",
              "0            0.115156            0.120570            0.114869   \n",
              "1            0.283761            0.296936            0.297408   \n",
              "2            0.109124            0.114301            0.108880   \n",
              "3            0.252697            0.241207            0.245663   \n",
              "4            0.115156            0.120570            0.114869   \n",
              "5            0.273813            0.281710            0.291848   \n",
              "\n",
              "   split6_train_score  split7_train_score  split8_train_score  \\\n",
              "0            0.117771            0.116390            0.108838   \n",
              "1            0.296708            0.287797            0.275939   \n",
              "2            0.117087            0.114230            0.104145   \n",
              "3            0.282152            0.258446            0.266246   \n",
              "4            0.117771            0.116390            0.108838   \n",
              "5            0.291356            0.271295            0.275336   \n",
              "\n",
              "   split9_train_score  mean_train_score  std_train_score  \n",
              "0            0.104076          0.114376         0.004507  \n",
              "1            0.285019          0.289209         0.006806  \n",
              "2            0.091262          0.106769         0.007644  \n",
              "3            0.241701          0.253601         0.012819  \n",
              "4            0.104076          0.114376         0.004507  \n",
              "5            0.280182          0.281978         0.006626  \n",
              "\n",
              "[6 rows x 32 columns]"
            ],
            "text/html": [
              "\n",
              "  <div id=\"df-09caf2d1-10ce-49f6-b98b-5b5e7c47caf5\" class=\"colab-df-container\">\n",
              "    <div>\n",
              "<style scoped>\n",
              "    .dataframe tbody tr th:only-of-type {\n",
              "        vertical-align: middle;\n",
              "    }\n",
              "\n",
              "    .dataframe tbody tr th {\n",
              "        vertical-align: top;\n",
              "    }\n",
              "\n",
              "    .dataframe thead th {\n",
              "        text-align: right;\n",
              "    }\n",
              "</style>\n",
              "<table border=\"1\" class=\"dataframe\">\n",
              "  <thead>\n",
              "    <tr style=\"text-align: right;\">\n",
              "      <th></th>\n",
              "      <th>mean_fit_time</th>\n",
              "      <th>std_fit_time</th>\n",
              "      <th>mean_score_time</th>\n",
              "      <th>std_score_time</th>\n",
              "      <th>param_criterion</th>\n",
              "      <th>param_max_depth</th>\n",
              "      <th>params</th>\n",
              "      <th>split0_test_score</th>\n",
              "      <th>split1_test_score</th>\n",
              "      <th>split2_test_score</th>\n",
              "      <th>...</th>\n",
              "      <th>split2_train_score</th>\n",
              "      <th>split3_train_score</th>\n",
              "      <th>split4_train_score</th>\n",
              "      <th>split5_train_score</th>\n",
              "      <th>split6_train_score</th>\n",
              "      <th>split7_train_score</th>\n",
              "      <th>split8_train_score</th>\n",
              "      <th>split9_train_score</th>\n",
              "      <th>mean_train_score</th>\n",
              "      <th>std_train_score</th>\n",
              "    </tr>\n",
              "  </thead>\n",
              "  <tbody>\n",
              "    <tr>\n",
              "      <th>0</th>\n",
              "      <td>0.060007</td>\n",
              "      <td>0.014723</td>\n",
              "      <td>0.002189</td>\n",
              "      <td>0.001052</td>\n",
              "      <td>squared_error</td>\n",
              "      <td>2</td>\n",
              "      <td>{'criterion': 'squared_error', 'max_depth': 2}</td>\n",
              "      <td>0.076989</td>\n",
              "      <td>0.114961</td>\n",
              "      <td>0.035954</td>\n",
              "      <td>...</td>\n",
              "      <td>0.117415</td>\n",
              "      <td>0.115156</td>\n",
              "      <td>0.120570</td>\n",
              "      <td>0.114869</td>\n",
              "      <td>0.117771</td>\n",
              "      <td>0.116390</td>\n",
              "      <td>0.108838</td>\n",
              "      <td>0.104076</td>\n",
              "      <td>0.114376</td>\n",
              "      <td>0.004507</td>\n",
              "    </tr>\n",
              "    <tr>\n",
              "      <th>1</th>\n",
              "      <td>0.079443</td>\n",
              "      <td>0.004669</td>\n",
              "      <td>0.001386</td>\n",
              "      <td>0.000283</td>\n",
              "      <td>squared_error</td>\n",
              "      <td>5</td>\n",
              "      <td>{'criterion': 'squared_error', 'max_depth': 5}</td>\n",
              "      <td>0.053371</td>\n",
              "      <td>-0.009515</td>\n",
              "      <td>0.053627</td>\n",
              "      <td>...</td>\n",
              "      <td>0.283947</td>\n",
              "      <td>0.283761</td>\n",
              "      <td>0.296936</td>\n",
              "      <td>0.297408</td>\n",
              "      <td>0.296708</td>\n",
              "      <td>0.287797</td>\n",
              "      <td>0.275939</td>\n",
              "      <td>0.285019</td>\n",
              "      <td>0.289209</td>\n",
              "      <td>0.006806</td>\n",
              "    </tr>\n",
              "    <tr>\n",
              "      <th>2</th>\n",
              "      <td>13.091979</td>\n",
              "      <td>0.532628</td>\n",
              "      <td>0.001443</td>\n",
              "      <td>0.000104</td>\n",
              "      <td>absolute_error</td>\n",
              "      <td>2</td>\n",
              "      <td>{'criterion': 'absolute_error', 'max_depth': 2}</td>\n",
              "      <td>0.111118</td>\n",
              "      <td>0.097900</td>\n",
              "      <td>0.050053</td>\n",
              "      <td>...</td>\n",
              "      <td>0.099601</td>\n",
              "      <td>0.109124</td>\n",
              "      <td>0.114301</td>\n",
              "      <td>0.108880</td>\n",
              "      <td>0.117087</td>\n",
              "      <td>0.114230</td>\n",
              "      <td>0.104145</td>\n",
              "      <td>0.091262</td>\n",
              "      <td>0.106769</td>\n",
              "      <td>0.007644</td>\n",
              "    </tr>\n",
              "    <tr>\n",
              "      <th>3</th>\n",
              "      <td>18.516081</td>\n",
              "      <td>1.152538</td>\n",
              "      <td>0.001535</td>\n",
              "      <td>0.000382</td>\n",
              "      <td>absolute_error</td>\n",
              "      <td>5</td>\n",
              "      <td>{'criterion': 'absolute_error', 'max_depth': 5}</td>\n",
              "      <td>0.067945</td>\n",
              "      <td>0.004270</td>\n",
              "      <td>0.014835</td>\n",
              "      <td>...</td>\n",
              "      <td>0.236933</td>\n",
              "      <td>0.252697</td>\n",
              "      <td>0.241207</td>\n",
              "      <td>0.245663</td>\n",
              "      <td>0.282152</td>\n",
              "      <td>0.258446</td>\n",
              "      <td>0.266246</td>\n",
              "      <td>0.241701</td>\n",
              "      <td>0.253601</td>\n",
              "      <td>0.012819</td>\n",
              "    </tr>\n",
              "    <tr>\n",
              "      <th>4</th>\n",
              "      <td>0.042918</td>\n",
              "      <td>0.002235</td>\n",
              "      <td>0.001388</td>\n",
              "      <td>0.000119</td>\n",
              "      <td>poisson</td>\n",
              "      <td>2</td>\n",
              "      <td>{'criterion': 'poisson', 'max_depth': 2}</td>\n",
              "      <td>0.076989</td>\n",
              "      <td>0.114961</td>\n",
              "      <td>0.035954</td>\n",
              "      <td>...</td>\n",
              "      <td>0.117415</td>\n",
              "      <td>0.115156</td>\n",
              "      <td>0.120570</td>\n",
              "      <td>0.114869</td>\n",
              "      <td>0.117771</td>\n",
              "      <td>0.116390</td>\n",
              "      <td>0.108838</td>\n",
              "      <td>0.104076</td>\n",
              "      <td>0.114376</td>\n",
              "      <td>0.004507</td>\n",
              "    </tr>\n",
              "    <tr>\n",
              "      <th>5</th>\n",
              "      <td>0.092323</td>\n",
              "      <td>0.003997</td>\n",
              "      <td>0.001367</td>\n",
              "      <td>0.000070</td>\n",
              "      <td>poisson</td>\n",
              "      <td>5</td>\n",
              "      <td>{'criterion': 'poisson', 'max_depth': 5}</td>\n",
              "      <td>0.053696</td>\n",
              "      <td>-0.016150</td>\n",
              "      <td>0.028140</td>\n",
              "      <td>...</td>\n",
              "      <td>0.286036</td>\n",
              "      <td>0.273813</td>\n",
              "      <td>0.281710</td>\n",
              "      <td>0.291848</td>\n",
              "      <td>0.291356</td>\n",
              "      <td>0.271295</td>\n",
              "      <td>0.275336</td>\n",
              "      <td>0.280182</td>\n",
              "      <td>0.281978</td>\n",
              "      <td>0.006626</td>\n",
              "    </tr>\n",
              "  </tbody>\n",
              "</table>\n",
              "<p>6 rows × 32 columns</p>\n",
              "</div>\n",
              "    <div class=\"colab-df-buttons\">\n",
              "\n",
              "  <div class=\"colab-df-container\">\n",
              "    <button class=\"colab-df-convert\" onclick=\"convertToInteractive('df-09caf2d1-10ce-49f6-b98b-5b5e7c47caf5')\"\n",
              "            title=\"Convert this dataframe to an interactive table.\"\n",
              "            style=\"display:none;\">\n",
              "\n",
              "  <svg xmlns=\"http://www.w3.org/2000/svg\" height=\"24px\" viewBox=\"0 -960 960 960\">\n",
              "    <path d=\"M120-120v-720h720v720H120Zm60-500h600v-160H180v160Zm220 220h160v-160H400v160Zm0 220h160v-160H400v160ZM180-400h160v-160H180v160Zm440 0h160v-160H620v160ZM180-180h160v-160H180v160Zm440 0h160v-160H620v160Z\"/>\n",
              "  </svg>\n",
              "    </button>\n",
              "\n",
              "  <style>\n",
              "    .colab-df-container {\n",
              "      display:flex;\n",
              "      gap: 12px;\n",
              "    }\n",
              "\n",
              "    .colab-df-convert {\n",
              "      background-color: #E8F0FE;\n",
              "      border: none;\n",
              "      border-radius: 50%;\n",
              "      cursor: pointer;\n",
              "      display: none;\n",
              "      fill: #1967D2;\n",
              "      height: 32px;\n",
              "      padding: 0 0 0 0;\n",
              "      width: 32px;\n",
              "    }\n",
              "\n",
              "    .colab-df-convert:hover {\n",
              "      background-color: #E2EBFA;\n",
              "      box-shadow: 0px 1px 2px rgba(60, 64, 67, 0.3), 0px 1px 3px 1px rgba(60, 64, 67, 0.15);\n",
              "      fill: #174EA6;\n",
              "    }\n",
              "\n",
              "    .colab-df-buttons div {\n",
              "      margin-bottom: 4px;\n",
              "    }\n",
              "\n",
              "    [theme=dark] .colab-df-convert {\n",
              "      background-color: #3B4455;\n",
              "      fill: #D2E3FC;\n",
              "    }\n",
              "\n",
              "    [theme=dark] .colab-df-convert:hover {\n",
              "      background-color: #434B5C;\n",
              "      box-shadow: 0px 1px 3px 1px rgba(0, 0, 0, 0.15);\n",
              "      filter: drop-shadow(0px 1px 2px rgba(0, 0, 0, 0.3));\n",
              "      fill: #FFFFFF;\n",
              "    }\n",
              "  </style>\n",
              "\n",
              "    <script>\n",
              "      const buttonEl =\n",
              "        document.querySelector('#df-09caf2d1-10ce-49f6-b98b-5b5e7c47caf5 button.colab-df-convert');\n",
              "      buttonEl.style.display =\n",
              "        google.colab.kernel.accessAllowed ? 'block' : 'none';\n",
              "\n",
              "      async function convertToInteractive(key) {\n",
              "        const element = document.querySelector('#df-09caf2d1-10ce-49f6-b98b-5b5e7c47caf5');\n",
              "        const dataTable =\n",
              "          await google.colab.kernel.invokeFunction('convertToInteractive',\n",
              "                                                    [key], {});\n",
              "        if (!dataTable) return;\n",
              "\n",
              "        const docLinkHtml = 'Like what you see? Visit the ' +\n",
              "          '<a target=\"_blank\" href=https://colab.research.google.com/notebooks/data_table.ipynb>data table notebook</a>'\n",
              "          + ' to learn more about interactive tables.';\n",
              "        element.innerHTML = '';\n",
              "        dataTable['output_type'] = 'display_data';\n",
              "        await google.colab.output.renderOutput(dataTable, element);\n",
              "        const docLink = document.createElement('div');\n",
              "        docLink.innerHTML = docLinkHtml;\n",
              "        element.appendChild(docLink);\n",
              "      }\n",
              "    </script>\n",
              "  </div>\n",
              "\n",
              "\n",
              "<div id=\"df-60f2344c-2d70-4321-ad3f-2badc8bc7d28\">\n",
              "  <button class=\"colab-df-quickchart\" onclick=\"quickchart('df-60f2344c-2d70-4321-ad3f-2badc8bc7d28')\"\n",
              "            title=\"Suggest charts\"\n",
              "            style=\"display:none;\">\n",
              "\n",
              "<svg xmlns=\"http://www.w3.org/2000/svg\" height=\"24px\"viewBox=\"0 0 24 24\"\n",
              "     width=\"24px\">\n",
              "    <g>\n",
              "        <path d=\"M19 3H5c-1.1 0-2 .9-2 2v14c0 1.1.9 2 2 2h14c1.1 0 2-.9 2-2V5c0-1.1-.9-2-2-2zM9 17H7v-7h2v7zm4 0h-2V7h2v10zm4 0h-2v-4h2v4z\"/>\n",
              "    </g>\n",
              "</svg>\n",
              "  </button>\n",
              "\n",
              "<style>\n",
              "  .colab-df-quickchart {\n",
              "      --bg-color: #E8F0FE;\n",
              "      --fill-color: #1967D2;\n",
              "      --hover-bg-color: #E2EBFA;\n",
              "      --hover-fill-color: #174EA6;\n",
              "      --disabled-fill-color: #AAA;\n",
              "      --disabled-bg-color: #DDD;\n",
              "  }\n",
              "\n",
              "  [theme=dark] .colab-df-quickchart {\n",
              "      --bg-color: #3B4455;\n",
              "      --fill-color: #D2E3FC;\n",
              "      --hover-bg-color: #434B5C;\n",
              "      --hover-fill-color: #FFFFFF;\n",
              "      --disabled-bg-color: #3B4455;\n",
              "      --disabled-fill-color: #666;\n",
              "  }\n",
              "\n",
              "  .colab-df-quickchart {\n",
              "    background-color: var(--bg-color);\n",
              "    border: none;\n",
              "    border-radius: 50%;\n",
              "    cursor: pointer;\n",
              "    display: none;\n",
              "    fill: var(--fill-color);\n",
              "    height: 32px;\n",
              "    padding: 0;\n",
              "    width: 32px;\n",
              "  }\n",
              "\n",
              "  .colab-df-quickchart:hover {\n",
              "    background-color: var(--hover-bg-color);\n",
              "    box-shadow: 0 1px 2px rgba(60, 64, 67, 0.3), 0 1px 3px 1px rgba(60, 64, 67, 0.15);\n",
              "    fill: var(--button-hover-fill-color);\n",
              "  }\n",
              "\n",
              "  .colab-df-quickchart-complete:disabled,\n",
              "  .colab-df-quickchart-complete:disabled:hover {\n",
              "    background-color: var(--disabled-bg-color);\n",
              "    fill: var(--disabled-fill-color);\n",
              "    box-shadow: none;\n",
              "  }\n",
              "\n",
              "  .colab-df-spinner {\n",
              "    border: 2px solid var(--fill-color);\n",
              "    border-color: transparent;\n",
              "    border-bottom-color: var(--fill-color);\n",
              "    animation:\n",
              "      spin 1s steps(1) infinite;\n",
              "  }\n",
              "\n",
              "  @keyframes spin {\n",
              "    0% {\n",
              "      border-color: transparent;\n",
              "      border-bottom-color: var(--fill-color);\n",
              "      border-left-color: var(--fill-color);\n",
              "    }\n",
              "    20% {\n",
              "      border-color: transparent;\n",
              "      border-left-color: var(--fill-color);\n",
              "      border-top-color: var(--fill-color);\n",
              "    }\n",
              "    30% {\n",
              "      border-color: transparent;\n",
              "      border-left-color: var(--fill-color);\n",
              "      border-top-color: var(--fill-color);\n",
              "      border-right-color: var(--fill-color);\n",
              "    }\n",
              "    40% {\n",
              "      border-color: transparent;\n",
              "      border-right-color: var(--fill-color);\n",
              "      border-top-color: var(--fill-color);\n",
              "    }\n",
              "    60% {\n",
              "      border-color: transparent;\n",
              "      border-right-color: var(--fill-color);\n",
              "    }\n",
              "    80% {\n",
              "      border-color: transparent;\n",
              "      border-right-color: var(--fill-color);\n",
              "      border-bottom-color: var(--fill-color);\n",
              "    }\n",
              "    90% {\n",
              "      border-color: transparent;\n",
              "      border-bottom-color: var(--fill-color);\n",
              "    }\n",
              "  }\n",
              "</style>\n",
              "\n",
              "  <script>\n",
              "    async function quickchart(key) {\n",
              "      const quickchartButtonEl =\n",
              "        document.querySelector('#' + key + ' button');\n",
              "      quickchartButtonEl.disabled = true;  // To prevent multiple clicks.\n",
              "      quickchartButtonEl.classList.add('colab-df-spinner');\n",
              "      try {\n",
              "        const charts = await google.colab.kernel.invokeFunction(\n",
              "            'suggestCharts', [key], {});\n",
              "      } catch (error) {\n",
              "        console.error('Error during call to suggestCharts:', error);\n",
              "      }\n",
              "      quickchartButtonEl.classList.remove('colab-df-spinner');\n",
              "      quickchartButtonEl.classList.add('colab-df-quickchart-complete');\n",
              "    }\n",
              "    (() => {\n",
              "      let quickchartButtonEl =\n",
              "        document.querySelector('#df-60f2344c-2d70-4321-ad3f-2badc8bc7d28 button');\n",
              "      quickchartButtonEl.style.display =\n",
              "        google.colab.kernel.accessAllowed ? 'block' : 'none';\n",
              "    })();\n",
              "  </script>\n",
              "</div>\n",
              "    </div>\n",
              "  </div>\n"
            ],
            "application/vnd.google.colaboratory.intrinsic+json": {
              "type": "dataframe",
              "variable_name": "grid_search_res_df"
            }
          },
          "metadata": {},
          "execution_count": 83
        }
      ]
    },
    {
      "cell_type": "code",
      "source": [
        "gs_preds = grid_search.predict(X_test_accept_new)"
      ],
      "metadata": {
        "id": "0zijCmfO_rbh"
      },
      "execution_count": 84,
      "outputs": []
    },
    {
      "cell_type": "code",
      "source": [
        "#После подбора гиперпараметров метрики оценки стали гораздо лучше"
      ],
      "metadata": {
        "id": "gmxQQtj1sdL_"
      },
      "execution_count": null,
      "outputs": []
    },
    {
      "cell_type": "code",
      "source": [
        "print(r2_score(y_test_accept, gs_preds))\n",
        "print(mean_squared_error(y_test_accept, gs_preds))\n",
        "print(mean_absolute_error(y_test_accept, gs_preds))"
      ],
      "metadata": {
        "colab": {
          "base_uri": "https://localhost:8080/"
        },
        "id": "8R9Qk3ct_1R5",
        "outputId": "674f6bff-6ea8-427e-d3d4-c31f74c0f407"
      },
      "execution_count": 85,
      "outputs": [
        {
          "output_type": "stream",
          "name": "stdout",
          "text": [
            "0.11861553331021668\n",
            "208.62623146512828\n",
            "11.578849512268757\n"
          ]
        }
      ]
    },
    {
      "cell_type": "code",
      "source": [
        "print(f\"Best params:\")\n",
        "print(grid_search.best_params_)"
      ],
      "metadata": {
        "colab": {
          "base_uri": "https://localhost:8080/"
        },
        "id": "OSz_1OF28pKZ",
        "outputId": "911bb97c-b274-4b51-c974-384465dcc691"
      },
      "execution_count": 86,
      "outputs": [
        {
          "output_type": "stream",
          "name": "stdout",
          "text": [
            "Best params:\n",
            "{'criterion': 'squared_error', 'max_depth': 2}\n"
          ]
        }
      ]
    }
  ]
}